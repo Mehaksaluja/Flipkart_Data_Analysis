{
  "nbformat": 4,
  "nbformat_minor": 0,
  "metadata": {
    "colab": {
      "provenance": [],
      "authorship_tag": "ABX9TyOxdciuAomz/E7qIitIWBKl"
    },
    "kernelspec": {
      "name": "python3",
      "display_name": "Python 3"
    },
    "language_info": {
      "name": "python"
    }
  },
  "cells": [
    {
      "cell_type": "code",
      "execution_count": 1,
      "metadata": {
        "id": "16p7h8cUHkHD"
      },
      "outputs": [],
      "source": [
        "import pandas as pd\n",
        "import numpy as np\n",
        "import matplotlib.pyplot as plt\n",
        "import seaborn as sns"
      ]
    },
    {
      "cell_type": "code",
      "source": [
        "smartphones = pd.read_csv('/content/cleaned_smartphone_data.csv')\n",
        "smartphones.head(5)"
      ],
      "metadata": {
        "colab": {
          "base_uri": "https://localhost:8080/",
          "height": 345
        },
        "id": "a-5mL-67TC1V",
        "outputId": "5b56e587-921c-42b7-bece-e4abc83c73da"
      },
      "execution_count": 2,
      "outputs": [
        {
          "output_type": "execute_result",
          "data": {
            "text/plain": [
              "                                       Product Name Rating  Price  \\\n",
              "0          Infinix Note 40 5G (Racing Grey, 256 GB)    4.2  15999   \n",
              "1           realme 14 Pro+ 5G (Pearl White, 128 GB)    4.5  29999   \n",
              "2         SAMSUNG Galaxy F05 (Twilight Blue, 64 GB)    4.2   6499   \n",
              "3                MOTOROLA g05 (Forest Green, 64 GB)    4.3   6999   \n",
              "4  SAMSUNG Galaxy A54 5G (Awesome Graphite, 256 GB)    4.3  23999   \n",
              "\n",
              "   Discount (%)  Price Before Discount          Resolution Operating System  \\\n",
              "0          36.0                  24999  2400 x 1080 Pixels       Android 14   \n",
              "1          11.0                  33999  2800 x 1272 Pixels       Android 15   \n",
              "2          35.0                   9999   1600 x 720 Pixels       Android 14   \n",
              "3          30.0                   9999   1612 x 720 Pixels       Android 15   \n",
              "4          47.0                  45999  2340 x 1080 Pixels       Android 13   \n",
              "\n",
              "   RAM (GB)     Primary Camera  Battery Capacity (mAh) Brand Name  \\\n",
              "0       8.0  108MP + 2MP + 2MP                  5000.0    Infinix   \n",
              "1       8.0  50MP + 50MP + 8MP                  6000.0     realme   \n",
              "2       4.0         50MP + 2MP                  5000.0    SAMSUNG   \n",
              "3       4.0   50MP Rear Camera                  5200.0   MOTOROLA   \n",
              "4       8.0  50MP + 12MP + 5MP                  5000.0    SAMSUNG   \n",
              "\n",
              "   Ratings Count  Reviews Count Internal Storage (GB)  \n",
              "0              7            817                   256  \n",
              "1            561             51                   128  \n",
              "2             28            612                    64  \n",
              "3              2            196                    64  \n",
              "4              4            373                   256  "
            ],
            "text/html": [
              "\n",
              "  <div id=\"df-ca7f3e30-67fb-4bc7-917c-aa09ecbeaf03\" class=\"colab-df-container\">\n",
              "    <div>\n",
              "<style scoped>\n",
              "    .dataframe tbody tr th:only-of-type {\n",
              "        vertical-align: middle;\n",
              "    }\n",
              "\n",
              "    .dataframe tbody tr th {\n",
              "        vertical-align: top;\n",
              "    }\n",
              "\n",
              "    .dataframe thead th {\n",
              "        text-align: right;\n",
              "    }\n",
              "</style>\n",
              "<table border=\"1\" class=\"dataframe\">\n",
              "  <thead>\n",
              "    <tr style=\"text-align: right;\">\n",
              "      <th></th>\n",
              "      <th>Product Name</th>\n",
              "      <th>Rating</th>\n",
              "      <th>Price</th>\n",
              "      <th>Discount (%)</th>\n",
              "      <th>Price Before Discount</th>\n",
              "      <th>Resolution</th>\n",
              "      <th>Operating System</th>\n",
              "      <th>RAM (GB)</th>\n",
              "      <th>Primary Camera</th>\n",
              "      <th>Battery Capacity (mAh)</th>\n",
              "      <th>Brand Name</th>\n",
              "      <th>Ratings Count</th>\n",
              "      <th>Reviews Count</th>\n",
              "      <th>Internal Storage (GB)</th>\n",
              "    </tr>\n",
              "  </thead>\n",
              "  <tbody>\n",
              "    <tr>\n",
              "      <th>0</th>\n",
              "      <td>Infinix Note 40 5G (Racing Grey, 256 GB)</td>\n",
              "      <td>4.2</td>\n",
              "      <td>15999</td>\n",
              "      <td>36.0</td>\n",
              "      <td>24999</td>\n",
              "      <td>2400 x 1080 Pixels</td>\n",
              "      <td>Android 14</td>\n",
              "      <td>8.0</td>\n",
              "      <td>108MP + 2MP + 2MP</td>\n",
              "      <td>5000.0</td>\n",
              "      <td>Infinix</td>\n",
              "      <td>7</td>\n",
              "      <td>817</td>\n",
              "      <td>256</td>\n",
              "    </tr>\n",
              "    <tr>\n",
              "      <th>1</th>\n",
              "      <td>realme 14 Pro+ 5G (Pearl White, 128 GB)</td>\n",
              "      <td>4.5</td>\n",
              "      <td>29999</td>\n",
              "      <td>11.0</td>\n",
              "      <td>33999</td>\n",
              "      <td>2800 x 1272 Pixels</td>\n",
              "      <td>Android 15</td>\n",
              "      <td>8.0</td>\n",
              "      <td>50MP + 50MP + 8MP</td>\n",
              "      <td>6000.0</td>\n",
              "      <td>realme</td>\n",
              "      <td>561</td>\n",
              "      <td>51</td>\n",
              "      <td>128</td>\n",
              "    </tr>\n",
              "    <tr>\n",
              "      <th>2</th>\n",
              "      <td>SAMSUNG Galaxy F05 (Twilight Blue, 64 GB)</td>\n",
              "      <td>4.2</td>\n",
              "      <td>6499</td>\n",
              "      <td>35.0</td>\n",
              "      <td>9999</td>\n",
              "      <td>1600 x 720 Pixels</td>\n",
              "      <td>Android 14</td>\n",
              "      <td>4.0</td>\n",
              "      <td>50MP + 2MP</td>\n",
              "      <td>5000.0</td>\n",
              "      <td>SAMSUNG</td>\n",
              "      <td>28</td>\n",
              "      <td>612</td>\n",
              "      <td>64</td>\n",
              "    </tr>\n",
              "    <tr>\n",
              "      <th>3</th>\n",
              "      <td>MOTOROLA g05 (Forest Green, 64 GB)</td>\n",
              "      <td>4.3</td>\n",
              "      <td>6999</td>\n",
              "      <td>30.0</td>\n",
              "      <td>9999</td>\n",
              "      <td>1612 x 720 Pixels</td>\n",
              "      <td>Android 15</td>\n",
              "      <td>4.0</td>\n",
              "      <td>50MP Rear Camera</td>\n",
              "      <td>5200.0</td>\n",
              "      <td>MOTOROLA</td>\n",
              "      <td>2</td>\n",
              "      <td>196</td>\n",
              "      <td>64</td>\n",
              "    </tr>\n",
              "    <tr>\n",
              "      <th>4</th>\n",
              "      <td>SAMSUNG Galaxy A54 5G (Awesome Graphite, 256 GB)</td>\n",
              "      <td>4.3</td>\n",
              "      <td>23999</td>\n",
              "      <td>47.0</td>\n",
              "      <td>45999</td>\n",
              "      <td>2340 x 1080 Pixels</td>\n",
              "      <td>Android 13</td>\n",
              "      <td>8.0</td>\n",
              "      <td>50MP + 12MP + 5MP</td>\n",
              "      <td>5000.0</td>\n",
              "      <td>SAMSUNG</td>\n",
              "      <td>4</td>\n",
              "      <td>373</td>\n",
              "      <td>256</td>\n",
              "    </tr>\n",
              "  </tbody>\n",
              "</table>\n",
              "</div>\n",
              "    <div class=\"colab-df-buttons\">\n",
              "\n",
              "  <div class=\"colab-df-container\">\n",
              "    <button class=\"colab-df-convert\" onclick=\"convertToInteractive('df-ca7f3e30-67fb-4bc7-917c-aa09ecbeaf03')\"\n",
              "            title=\"Convert this dataframe to an interactive table.\"\n",
              "            style=\"display:none;\">\n",
              "\n",
              "  <svg xmlns=\"http://www.w3.org/2000/svg\" height=\"24px\" viewBox=\"0 -960 960 960\">\n",
              "    <path d=\"M120-120v-720h720v720H120Zm60-500h600v-160H180v160Zm220 220h160v-160H400v160Zm0 220h160v-160H400v160ZM180-400h160v-160H180v160Zm440 0h160v-160H620v160ZM180-180h160v-160H180v160Zm440 0h160v-160H620v160Z\"/>\n",
              "  </svg>\n",
              "    </button>\n",
              "\n",
              "  <style>\n",
              "    .colab-df-container {\n",
              "      display:flex;\n",
              "      gap: 12px;\n",
              "    }\n",
              "\n",
              "    .colab-df-convert {\n",
              "      background-color: #E8F0FE;\n",
              "      border: none;\n",
              "      border-radius: 50%;\n",
              "      cursor: pointer;\n",
              "      display: none;\n",
              "      fill: #1967D2;\n",
              "      height: 32px;\n",
              "      padding: 0 0 0 0;\n",
              "      width: 32px;\n",
              "    }\n",
              "\n",
              "    .colab-df-convert:hover {\n",
              "      background-color: #E2EBFA;\n",
              "      box-shadow: 0px 1px 2px rgba(60, 64, 67, 0.3), 0px 1px 3px 1px rgba(60, 64, 67, 0.15);\n",
              "      fill: #174EA6;\n",
              "    }\n",
              "\n",
              "    .colab-df-buttons div {\n",
              "      margin-bottom: 4px;\n",
              "    }\n",
              "\n",
              "    [theme=dark] .colab-df-convert {\n",
              "      background-color: #3B4455;\n",
              "      fill: #D2E3FC;\n",
              "    }\n",
              "\n",
              "    [theme=dark] .colab-df-convert:hover {\n",
              "      background-color: #434B5C;\n",
              "      box-shadow: 0px 1px 3px 1px rgba(0, 0, 0, 0.15);\n",
              "      filter: drop-shadow(0px 1px 2px rgba(0, 0, 0, 0.3));\n",
              "      fill: #FFFFFF;\n",
              "    }\n",
              "  </style>\n",
              "\n",
              "    <script>\n",
              "      const buttonEl =\n",
              "        document.querySelector('#df-ca7f3e30-67fb-4bc7-917c-aa09ecbeaf03 button.colab-df-convert');\n",
              "      buttonEl.style.display =\n",
              "        google.colab.kernel.accessAllowed ? 'block' : 'none';\n",
              "\n",
              "      async function convertToInteractive(key) {\n",
              "        const element = document.querySelector('#df-ca7f3e30-67fb-4bc7-917c-aa09ecbeaf03');\n",
              "        const dataTable =\n",
              "          await google.colab.kernel.invokeFunction('convertToInteractive',\n",
              "                                                    [key], {});\n",
              "        if (!dataTable) return;\n",
              "\n",
              "        const docLinkHtml = 'Like what you see? Visit the ' +\n",
              "          '<a target=\"_blank\" href=https://colab.research.google.com/notebooks/data_table.ipynb>data table notebook</a>'\n",
              "          + ' to learn more about interactive tables.';\n",
              "        element.innerHTML = '';\n",
              "        dataTable['output_type'] = 'display_data';\n",
              "        await google.colab.output.renderOutput(dataTable, element);\n",
              "        const docLink = document.createElement('div');\n",
              "        docLink.innerHTML = docLinkHtml;\n",
              "        element.appendChild(docLink);\n",
              "      }\n",
              "    </script>\n",
              "  </div>\n",
              "\n",
              "\n",
              "<div id=\"df-7049fafa-4887-4eff-ab51-9739c3ecd64b\">\n",
              "  <button class=\"colab-df-quickchart\" onclick=\"quickchart('df-7049fafa-4887-4eff-ab51-9739c3ecd64b')\"\n",
              "            title=\"Suggest charts\"\n",
              "            style=\"display:none;\">\n",
              "\n",
              "<svg xmlns=\"http://www.w3.org/2000/svg\" height=\"24px\"viewBox=\"0 0 24 24\"\n",
              "     width=\"24px\">\n",
              "    <g>\n",
              "        <path d=\"M19 3H5c-1.1 0-2 .9-2 2v14c0 1.1.9 2 2 2h14c1.1 0 2-.9 2-2V5c0-1.1-.9-2-2-2zM9 17H7v-7h2v7zm4 0h-2V7h2v10zm4 0h-2v-4h2v4z\"/>\n",
              "    </g>\n",
              "</svg>\n",
              "  </button>\n",
              "\n",
              "<style>\n",
              "  .colab-df-quickchart {\n",
              "      --bg-color: #E8F0FE;\n",
              "      --fill-color: #1967D2;\n",
              "      --hover-bg-color: #E2EBFA;\n",
              "      --hover-fill-color: #174EA6;\n",
              "      --disabled-fill-color: #AAA;\n",
              "      --disabled-bg-color: #DDD;\n",
              "  }\n",
              "\n",
              "  [theme=dark] .colab-df-quickchart {\n",
              "      --bg-color: #3B4455;\n",
              "      --fill-color: #D2E3FC;\n",
              "      --hover-bg-color: #434B5C;\n",
              "      --hover-fill-color: #FFFFFF;\n",
              "      --disabled-bg-color: #3B4455;\n",
              "      --disabled-fill-color: #666;\n",
              "  }\n",
              "\n",
              "  .colab-df-quickchart {\n",
              "    background-color: var(--bg-color);\n",
              "    border: none;\n",
              "    border-radius: 50%;\n",
              "    cursor: pointer;\n",
              "    display: none;\n",
              "    fill: var(--fill-color);\n",
              "    height: 32px;\n",
              "    padding: 0;\n",
              "    width: 32px;\n",
              "  }\n",
              "\n",
              "  .colab-df-quickchart:hover {\n",
              "    background-color: var(--hover-bg-color);\n",
              "    box-shadow: 0 1px 2px rgba(60, 64, 67, 0.3), 0 1px 3px 1px rgba(60, 64, 67, 0.15);\n",
              "    fill: var(--button-hover-fill-color);\n",
              "  }\n",
              "\n",
              "  .colab-df-quickchart-complete:disabled,\n",
              "  .colab-df-quickchart-complete:disabled:hover {\n",
              "    background-color: var(--disabled-bg-color);\n",
              "    fill: var(--disabled-fill-color);\n",
              "    box-shadow: none;\n",
              "  }\n",
              "\n",
              "  .colab-df-spinner {\n",
              "    border: 2px solid var(--fill-color);\n",
              "    border-color: transparent;\n",
              "    border-bottom-color: var(--fill-color);\n",
              "    animation:\n",
              "      spin 1s steps(1) infinite;\n",
              "  }\n",
              "\n",
              "  @keyframes spin {\n",
              "    0% {\n",
              "      border-color: transparent;\n",
              "      border-bottom-color: var(--fill-color);\n",
              "      border-left-color: var(--fill-color);\n",
              "    }\n",
              "    20% {\n",
              "      border-color: transparent;\n",
              "      border-left-color: var(--fill-color);\n",
              "      border-top-color: var(--fill-color);\n",
              "    }\n",
              "    30% {\n",
              "      border-color: transparent;\n",
              "      border-left-color: var(--fill-color);\n",
              "      border-top-color: var(--fill-color);\n",
              "      border-right-color: var(--fill-color);\n",
              "    }\n",
              "    40% {\n",
              "      border-color: transparent;\n",
              "      border-right-color: var(--fill-color);\n",
              "      border-top-color: var(--fill-color);\n",
              "    }\n",
              "    60% {\n",
              "      border-color: transparent;\n",
              "      border-right-color: var(--fill-color);\n",
              "    }\n",
              "    80% {\n",
              "      border-color: transparent;\n",
              "      border-right-color: var(--fill-color);\n",
              "      border-bottom-color: var(--fill-color);\n",
              "    }\n",
              "    90% {\n",
              "      border-color: transparent;\n",
              "      border-bottom-color: var(--fill-color);\n",
              "    }\n",
              "  }\n",
              "</style>\n",
              "\n",
              "  <script>\n",
              "    async function quickchart(key) {\n",
              "      const quickchartButtonEl =\n",
              "        document.querySelector('#' + key + ' button');\n",
              "      quickchartButtonEl.disabled = true;  // To prevent multiple clicks.\n",
              "      quickchartButtonEl.classList.add('colab-df-spinner');\n",
              "      try {\n",
              "        const charts = await google.colab.kernel.invokeFunction(\n",
              "            'suggestCharts', [key], {});\n",
              "      } catch (error) {\n",
              "        console.error('Error during call to suggestCharts:', error);\n",
              "      }\n",
              "      quickchartButtonEl.classList.remove('colab-df-spinner');\n",
              "      quickchartButtonEl.classList.add('colab-df-quickchart-complete');\n",
              "    }\n",
              "    (() => {\n",
              "      let quickchartButtonEl =\n",
              "        document.querySelector('#df-7049fafa-4887-4eff-ab51-9739c3ecd64b button');\n",
              "      quickchartButtonEl.style.display =\n",
              "        google.colab.kernel.accessAllowed ? 'block' : 'none';\n",
              "    })();\n",
              "  </script>\n",
              "</div>\n",
              "\n",
              "    </div>\n",
              "  </div>\n"
            ],
            "application/vnd.google.colaboratory.intrinsic+json": {
              "type": "dataframe",
              "variable_name": "smartphones",
              "summary": "{\n  \"name\": \"smartphones\",\n  \"rows\": 761,\n  \"fields\": [\n    {\n      \"column\": \"Product Name\",\n      \"properties\": {\n        \"dtype\": \"string\",\n        \"num_unique_values\": 637,\n        \"samples\": [\n          \"vivo V30 Pro 5G (Andaman Blue, 256 GB)\",\n          \"Infinix GT 20 Pro (Mecha Orange, 256 GB)\",\n          \"Motorola g45 5G (Brilliant Green, 128 GB)\"\n        ],\n        \"semantic_type\": \"\",\n        \"description\": \"\"\n      }\n    },\n    {\n      \"column\": \"Rating\",\n      \"properties\": {\n        \"dtype\": \"category\",\n        \"num_unique_values\": 14,\n        \"samples\": [\n          \"3.7\",\n          \"3.8\",\n          \"4.2\"\n        ],\n        \"semantic_type\": \"\",\n        \"description\": \"\"\n      }\n    },\n    {\n      \"column\": \"Price\",\n      \"properties\": {\n        \"dtype\": \"number\",\n        \"std\": 28236,\n        \"min\": 5239,\n        \"max\": 177900,\n        \"num_unique_values\": 307,\n        \"samples\": [\n          7499,\n          8328,\n          10830\n        ],\n        \"semantic_type\": \"\",\n        \"description\": \"\"\n      }\n    },\n    {\n      \"column\": \"Discount (%)\",\n      \"properties\": {\n        \"dtype\": \"number\",\n        \"std\": 10.596720246277547,\n        \"min\": 1.0,\n        \"max\": 62.0,\n        \"num_unique_values\": 54,\n        \"samples\": [\n          44.0,\n          46.0,\n          2.0\n        ],\n        \"semantic_type\": \"\",\n        \"description\": \"\"\n      }\n    },\n    {\n      \"column\": \"Price Before Discount\",\n      \"properties\": {\n        \"dtype\": \"number\",\n        \"std\": 31698,\n        \"min\": 6199,\n        \"max\": 184900,\n        \"num_unique_values\": 123,\n        \"samples\": [\n          19990,\n          39999,\n          59999\n        ],\n        \"semantic_type\": \"\",\n        \"description\": \"\"\n      }\n    },\n    {\n      \"column\": \"Resolution\",\n      \"properties\": {\n        \"dtype\": \"category\",\n        \"num_unique_values\": 136,\n        \"samples\": [\n          \"1612X720\",\n          \"1080 x 2408\",\n          \"1600*720\"\n        ],\n        \"semantic_type\": \"\",\n        \"description\": \"\"\n      }\n    },\n    {\n      \"column\": \"Operating System\",\n      \"properties\": {\n        \"dtype\": \"category\",\n        \"num_unique_values\": 48,\n        \"samples\": [\n          \"Android Q Funtouch OS 14 Based On Android 14\",\n          \"Android Android 14.0\",\n          \"Android Android 13 OxygenOS\"\n        ],\n        \"semantic_type\": \"\",\n        \"description\": \"\"\n      }\n    },\n    {\n      \"column\": \"RAM (GB)\",\n      \"properties\": {\n        \"dtype\": \"number\",\n        \"std\": 2.7150268456369333,\n        \"min\": 2.0,\n        \"max\": 16.0,\n        \"num_unique_values\": 7,\n        \"samples\": [\n          8.0,\n          4.0,\n          16.0\n        ],\n        \"semantic_type\": \"\",\n        \"description\": \"\"\n      }\n    },\n    {\n      \"column\": \"Primary Camera\",\n      \"properties\": {\n        \"dtype\": \"category\",\n        \"num_unique_values\": 79,\n        \"samples\": [\n          \"50MP + 5MP\",\n          \"108MP + 2MP + 2MP\",\n          \"48MP + 12MP\"\n        ],\n        \"semantic_type\": \"\",\n        \"description\": \"\"\n      }\n    },\n    {\n      \"column\": \"Battery Capacity (mAh)\",\n      \"properties\": {\n        \"dtype\": \"number\",\n        \"std\": 411.00791461806745,\n        \"min\": 3240.0,\n        \"max\": 6550.0,\n        \"num_unique_values\": 34,\n        \"samples\": [\n          6550.0,\n          5600.0,\n          4720.0\n        ],\n        \"semantic_type\": \"\",\n        \"description\": \"\"\n      }\n    },\n    {\n      \"column\": \"Brand Name\",\n      \"properties\": {\n        \"dtype\": \"category\",\n        \"num_unique_values\": 22,\n        \"samples\": [\n          \"Infinix\",\n          \"Apple\",\n          \"REDMI\"\n        ],\n        \"semantic_type\": \"\",\n        \"description\": \"\"\n      }\n    },\n    {\n      \"column\": \"Ratings Count\",\n      \"properties\": {\n        \"dtype\": \"number\",\n        \"std\": 238,\n        \"min\": 0,\n        \"max\": 966,\n        \"num_unique_values\": 146,\n        \"samples\": [\n          9,\n          49,\n          20\n        ],\n        \"semantic_type\": \"\",\n        \"description\": \"\"\n      }\n    },\n    {\n      \"column\": \"Reviews Count\",\n      \"properties\": {\n        \"dtype\": \"number\",\n        \"std\": 281,\n        \"min\": 0,\n        \"max\": 986,\n        \"num_unique_values\": 246,\n        \"samples\": [\n          379,\n          595,\n          344\n        ],\n        \"semantic_type\": \"\",\n        \"description\": \"\"\n      }\n    },\n    {\n      \"column\": \"Internal Storage (GB)\",\n      \"properties\": {\n        \"dtype\": \"category\",\n        \"num_unique_values\": 6,\n        \"samples\": [\n          \"256\",\n          \"128\",\n          \"32\"\n        ],\n        \"semantic_type\": \"\",\n        \"description\": \"\"\n      }\n    }\n  ]\n}"
            }
          },
          "metadata": {},
          "execution_count": 2
        }
      ]
    },
    {
      "cell_type": "code",
      "source": [
        "smartphones.info()"
      ],
      "metadata": {
        "colab": {
          "base_uri": "https://localhost:8080/"
        },
        "id": "ON6GmnejTSMr",
        "outputId": "2b5af6e6-3c85-4387-8bc9-ab2312dd9b18"
      },
      "execution_count": 4,
      "outputs": [
        {
          "output_type": "stream",
          "name": "stdout",
          "text": [
            "<class 'pandas.core.frame.DataFrame'>\n",
            "RangeIndex: 761 entries, 0 to 760\n",
            "Data columns (total 14 columns):\n",
            " #   Column                  Non-Null Count  Dtype  \n",
            "---  ------                  --------------  -----  \n",
            " 0   Product Name            761 non-null    object \n",
            " 1   Rating                  761 non-null    object \n",
            " 2   Price                   761 non-null    int64  \n",
            " 3   Discount (%)            761 non-null    float64\n",
            " 4   Price Before Discount   761 non-null    int64  \n",
            " 5   Resolution              761 non-null    object \n",
            " 6   Operating System        761 non-null    object \n",
            " 7   RAM (GB)                761 non-null    float64\n",
            " 8   Primary Camera          761 non-null    object \n",
            " 9   Battery Capacity (mAh)  761 non-null    float64\n",
            " 10  Brand Name              761 non-null    object \n",
            " 11  Ratings Count           761 non-null    int64  \n",
            " 12  Reviews Count           761 non-null    int64  \n",
            " 13  Internal Storage (GB)   761 non-null    object \n",
            "dtypes: float64(3), int64(4), object(7)\n",
            "memory usage: 83.4+ KB\n"
          ]
        }
      ]
    },
    {
      "cell_type": "code",
      "source": [
        "df = smartphones.copy()"
      ],
      "metadata": {
        "id": "23lrR3wDVChc"
      },
      "execution_count": 5,
      "outputs": []
    },
    {
      "cell_type": "code",
      "source": [
        "df.head(2)"
      ],
      "metadata": {
        "colab": {
          "base_uri": "https://localhost:8080/",
          "height": 164
        },
        "id": "I2JSBeA1VJFy",
        "outputId": "6262ebfd-9844-4b3e-8f20-edc22f113729"
      },
      "execution_count": 6,
      "outputs": [
        {
          "output_type": "execute_result",
          "data": {
            "text/plain": [
              "                               Product Name Rating  Price  Discount (%)  \\\n",
              "0  Infinix Note 40 5G (Racing Grey, 256 GB)    4.2  15999          36.0   \n",
              "1   realme 14 Pro+ 5G (Pearl White, 128 GB)    4.5  29999          11.0   \n",
              "\n",
              "   Price Before Discount          Resolution Operating System  RAM (GB)  \\\n",
              "0                  24999  2400 x 1080 Pixels       Android 14       8.0   \n",
              "1                  33999  2800 x 1272 Pixels       Android 15       8.0   \n",
              "\n",
              "      Primary Camera  Battery Capacity (mAh) Brand Name  Ratings Count  \\\n",
              "0  108MP + 2MP + 2MP                  5000.0    Infinix              7   \n",
              "1  50MP + 50MP + 8MP                  6000.0     realme            561   \n",
              "\n",
              "   Reviews Count Internal Storage (GB)  \n",
              "0            817                   256  \n",
              "1             51                   128  "
            ],
            "text/html": [
              "\n",
              "  <div id=\"df-4dbfac14-cc4b-4701-aae6-a54619973be2\" class=\"colab-df-container\">\n",
              "    <div>\n",
              "<style scoped>\n",
              "    .dataframe tbody tr th:only-of-type {\n",
              "        vertical-align: middle;\n",
              "    }\n",
              "\n",
              "    .dataframe tbody tr th {\n",
              "        vertical-align: top;\n",
              "    }\n",
              "\n",
              "    .dataframe thead th {\n",
              "        text-align: right;\n",
              "    }\n",
              "</style>\n",
              "<table border=\"1\" class=\"dataframe\">\n",
              "  <thead>\n",
              "    <tr style=\"text-align: right;\">\n",
              "      <th></th>\n",
              "      <th>Product Name</th>\n",
              "      <th>Rating</th>\n",
              "      <th>Price</th>\n",
              "      <th>Discount (%)</th>\n",
              "      <th>Price Before Discount</th>\n",
              "      <th>Resolution</th>\n",
              "      <th>Operating System</th>\n",
              "      <th>RAM (GB)</th>\n",
              "      <th>Primary Camera</th>\n",
              "      <th>Battery Capacity (mAh)</th>\n",
              "      <th>Brand Name</th>\n",
              "      <th>Ratings Count</th>\n",
              "      <th>Reviews Count</th>\n",
              "      <th>Internal Storage (GB)</th>\n",
              "    </tr>\n",
              "  </thead>\n",
              "  <tbody>\n",
              "    <tr>\n",
              "      <th>0</th>\n",
              "      <td>Infinix Note 40 5G (Racing Grey, 256 GB)</td>\n",
              "      <td>4.2</td>\n",
              "      <td>15999</td>\n",
              "      <td>36.0</td>\n",
              "      <td>24999</td>\n",
              "      <td>2400 x 1080 Pixels</td>\n",
              "      <td>Android 14</td>\n",
              "      <td>8.0</td>\n",
              "      <td>108MP + 2MP + 2MP</td>\n",
              "      <td>5000.0</td>\n",
              "      <td>Infinix</td>\n",
              "      <td>7</td>\n",
              "      <td>817</td>\n",
              "      <td>256</td>\n",
              "    </tr>\n",
              "    <tr>\n",
              "      <th>1</th>\n",
              "      <td>realme 14 Pro+ 5G (Pearl White, 128 GB)</td>\n",
              "      <td>4.5</td>\n",
              "      <td>29999</td>\n",
              "      <td>11.0</td>\n",
              "      <td>33999</td>\n",
              "      <td>2800 x 1272 Pixels</td>\n",
              "      <td>Android 15</td>\n",
              "      <td>8.0</td>\n",
              "      <td>50MP + 50MP + 8MP</td>\n",
              "      <td>6000.0</td>\n",
              "      <td>realme</td>\n",
              "      <td>561</td>\n",
              "      <td>51</td>\n",
              "      <td>128</td>\n",
              "    </tr>\n",
              "  </tbody>\n",
              "</table>\n",
              "</div>\n",
              "    <div class=\"colab-df-buttons\">\n",
              "\n",
              "  <div class=\"colab-df-container\">\n",
              "    <button class=\"colab-df-convert\" onclick=\"convertToInteractive('df-4dbfac14-cc4b-4701-aae6-a54619973be2')\"\n",
              "            title=\"Convert this dataframe to an interactive table.\"\n",
              "            style=\"display:none;\">\n",
              "\n",
              "  <svg xmlns=\"http://www.w3.org/2000/svg\" height=\"24px\" viewBox=\"0 -960 960 960\">\n",
              "    <path d=\"M120-120v-720h720v720H120Zm60-500h600v-160H180v160Zm220 220h160v-160H400v160Zm0 220h160v-160H400v160ZM180-400h160v-160H180v160Zm440 0h160v-160H620v160ZM180-180h160v-160H180v160Zm440 0h160v-160H620v160Z\"/>\n",
              "  </svg>\n",
              "    </button>\n",
              "\n",
              "  <style>\n",
              "    .colab-df-container {\n",
              "      display:flex;\n",
              "      gap: 12px;\n",
              "    }\n",
              "\n",
              "    .colab-df-convert {\n",
              "      background-color: #E8F0FE;\n",
              "      border: none;\n",
              "      border-radius: 50%;\n",
              "      cursor: pointer;\n",
              "      display: none;\n",
              "      fill: #1967D2;\n",
              "      height: 32px;\n",
              "      padding: 0 0 0 0;\n",
              "      width: 32px;\n",
              "    }\n",
              "\n",
              "    .colab-df-convert:hover {\n",
              "      background-color: #E2EBFA;\n",
              "      box-shadow: 0px 1px 2px rgba(60, 64, 67, 0.3), 0px 1px 3px 1px rgba(60, 64, 67, 0.15);\n",
              "      fill: #174EA6;\n",
              "    }\n",
              "\n",
              "    .colab-df-buttons div {\n",
              "      margin-bottom: 4px;\n",
              "    }\n",
              "\n",
              "    [theme=dark] .colab-df-convert {\n",
              "      background-color: #3B4455;\n",
              "      fill: #D2E3FC;\n",
              "    }\n",
              "\n",
              "    [theme=dark] .colab-df-convert:hover {\n",
              "      background-color: #434B5C;\n",
              "      box-shadow: 0px 1px 3px 1px rgba(0, 0, 0, 0.15);\n",
              "      filter: drop-shadow(0px 1px 2px rgba(0, 0, 0, 0.3));\n",
              "      fill: #FFFFFF;\n",
              "    }\n",
              "  </style>\n",
              "\n",
              "    <script>\n",
              "      const buttonEl =\n",
              "        document.querySelector('#df-4dbfac14-cc4b-4701-aae6-a54619973be2 button.colab-df-convert');\n",
              "      buttonEl.style.display =\n",
              "        google.colab.kernel.accessAllowed ? 'block' : 'none';\n",
              "\n",
              "      async function convertToInteractive(key) {\n",
              "        const element = document.querySelector('#df-4dbfac14-cc4b-4701-aae6-a54619973be2');\n",
              "        const dataTable =\n",
              "          await google.colab.kernel.invokeFunction('convertToInteractive',\n",
              "                                                    [key], {});\n",
              "        if (!dataTable) return;\n",
              "\n",
              "        const docLinkHtml = 'Like what you see? Visit the ' +\n",
              "          '<a target=\"_blank\" href=https://colab.research.google.com/notebooks/data_table.ipynb>data table notebook</a>'\n",
              "          + ' to learn more about interactive tables.';\n",
              "        element.innerHTML = '';\n",
              "        dataTable['output_type'] = 'display_data';\n",
              "        await google.colab.output.renderOutput(dataTable, element);\n",
              "        const docLink = document.createElement('div');\n",
              "        docLink.innerHTML = docLinkHtml;\n",
              "        element.appendChild(docLink);\n",
              "      }\n",
              "    </script>\n",
              "  </div>\n",
              "\n",
              "\n",
              "<div id=\"df-5cf4fb84-bcbc-486a-8c2f-2c2ff3683fe3\">\n",
              "  <button class=\"colab-df-quickchart\" onclick=\"quickchart('df-5cf4fb84-bcbc-486a-8c2f-2c2ff3683fe3')\"\n",
              "            title=\"Suggest charts\"\n",
              "            style=\"display:none;\">\n",
              "\n",
              "<svg xmlns=\"http://www.w3.org/2000/svg\" height=\"24px\"viewBox=\"0 0 24 24\"\n",
              "     width=\"24px\">\n",
              "    <g>\n",
              "        <path d=\"M19 3H5c-1.1 0-2 .9-2 2v14c0 1.1.9 2 2 2h14c1.1 0 2-.9 2-2V5c0-1.1-.9-2-2-2zM9 17H7v-7h2v7zm4 0h-2V7h2v10zm4 0h-2v-4h2v4z\"/>\n",
              "    </g>\n",
              "</svg>\n",
              "  </button>\n",
              "\n",
              "<style>\n",
              "  .colab-df-quickchart {\n",
              "      --bg-color: #E8F0FE;\n",
              "      --fill-color: #1967D2;\n",
              "      --hover-bg-color: #E2EBFA;\n",
              "      --hover-fill-color: #174EA6;\n",
              "      --disabled-fill-color: #AAA;\n",
              "      --disabled-bg-color: #DDD;\n",
              "  }\n",
              "\n",
              "  [theme=dark] .colab-df-quickchart {\n",
              "      --bg-color: #3B4455;\n",
              "      --fill-color: #D2E3FC;\n",
              "      --hover-bg-color: #434B5C;\n",
              "      --hover-fill-color: #FFFFFF;\n",
              "      --disabled-bg-color: #3B4455;\n",
              "      --disabled-fill-color: #666;\n",
              "  }\n",
              "\n",
              "  .colab-df-quickchart {\n",
              "    background-color: var(--bg-color);\n",
              "    border: none;\n",
              "    border-radius: 50%;\n",
              "    cursor: pointer;\n",
              "    display: none;\n",
              "    fill: var(--fill-color);\n",
              "    height: 32px;\n",
              "    padding: 0;\n",
              "    width: 32px;\n",
              "  }\n",
              "\n",
              "  .colab-df-quickchart:hover {\n",
              "    background-color: var(--hover-bg-color);\n",
              "    box-shadow: 0 1px 2px rgba(60, 64, 67, 0.3), 0 1px 3px 1px rgba(60, 64, 67, 0.15);\n",
              "    fill: var(--button-hover-fill-color);\n",
              "  }\n",
              "\n",
              "  .colab-df-quickchart-complete:disabled,\n",
              "  .colab-df-quickchart-complete:disabled:hover {\n",
              "    background-color: var(--disabled-bg-color);\n",
              "    fill: var(--disabled-fill-color);\n",
              "    box-shadow: none;\n",
              "  }\n",
              "\n",
              "  .colab-df-spinner {\n",
              "    border: 2px solid var(--fill-color);\n",
              "    border-color: transparent;\n",
              "    border-bottom-color: var(--fill-color);\n",
              "    animation:\n",
              "      spin 1s steps(1) infinite;\n",
              "  }\n",
              "\n",
              "  @keyframes spin {\n",
              "    0% {\n",
              "      border-color: transparent;\n",
              "      border-bottom-color: var(--fill-color);\n",
              "      border-left-color: var(--fill-color);\n",
              "    }\n",
              "    20% {\n",
              "      border-color: transparent;\n",
              "      border-left-color: var(--fill-color);\n",
              "      border-top-color: var(--fill-color);\n",
              "    }\n",
              "    30% {\n",
              "      border-color: transparent;\n",
              "      border-left-color: var(--fill-color);\n",
              "      border-top-color: var(--fill-color);\n",
              "      border-right-color: var(--fill-color);\n",
              "    }\n",
              "    40% {\n",
              "      border-color: transparent;\n",
              "      border-right-color: var(--fill-color);\n",
              "      border-top-color: var(--fill-color);\n",
              "    }\n",
              "    60% {\n",
              "      border-color: transparent;\n",
              "      border-right-color: var(--fill-color);\n",
              "    }\n",
              "    80% {\n",
              "      border-color: transparent;\n",
              "      border-right-color: var(--fill-color);\n",
              "      border-bottom-color: var(--fill-color);\n",
              "    }\n",
              "    90% {\n",
              "      border-color: transparent;\n",
              "      border-bottom-color: var(--fill-color);\n",
              "    }\n",
              "  }\n",
              "</style>\n",
              "\n",
              "  <script>\n",
              "    async function quickchart(key) {\n",
              "      const quickchartButtonEl =\n",
              "        document.querySelector('#' + key + ' button');\n",
              "      quickchartButtonEl.disabled = true;  // To prevent multiple clicks.\n",
              "      quickchartButtonEl.classList.add('colab-df-spinner');\n",
              "      try {\n",
              "        const charts = await google.colab.kernel.invokeFunction(\n",
              "            'suggestCharts', [key], {});\n",
              "      } catch (error) {\n",
              "        console.error('Error during call to suggestCharts:', error);\n",
              "      }\n",
              "      quickchartButtonEl.classList.remove('colab-df-spinner');\n",
              "      quickchartButtonEl.classList.add('colab-df-quickchart-complete');\n",
              "    }\n",
              "    (() => {\n",
              "      let quickchartButtonEl =\n",
              "        document.querySelector('#df-5cf4fb84-bcbc-486a-8c2f-2c2ff3683fe3 button');\n",
              "      quickchartButtonEl.style.display =\n",
              "        google.colab.kernel.accessAllowed ? 'block' : 'none';\n",
              "    })();\n",
              "  </script>\n",
              "</div>\n",
              "\n",
              "    </div>\n",
              "  </div>\n"
            ],
            "application/vnd.google.colaboratory.intrinsic+json": {
              "type": "dataframe",
              "variable_name": "df",
              "summary": "{\n  \"name\": \"df\",\n  \"rows\": 761,\n  \"fields\": [\n    {\n      \"column\": \"Product Name\",\n      \"properties\": {\n        \"dtype\": \"string\",\n        \"num_unique_values\": 637,\n        \"samples\": [\n          \"vivo V30 Pro 5G (Andaman Blue, 256 GB)\",\n          \"Infinix GT 20 Pro (Mecha Orange, 256 GB)\",\n          \"Motorola g45 5G (Brilliant Green, 128 GB)\"\n        ],\n        \"semantic_type\": \"\",\n        \"description\": \"\"\n      }\n    },\n    {\n      \"column\": \"Rating\",\n      \"properties\": {\n        \"dtype\": \"category\",\n        \"num_unique_values\": 14,\n        \"samples\": [\n          \"3.7\",\n          \"3.8\",\n          \"4.2\"\n        ],\n        \"semantic_type\": \"\",\n        \"description\": \"\"\n      }\n    },\n    {\n      \"column\": \"Price\",\n      \"properties\": {\n        \"dtype\": \"number\",\n        \"std\": 28236,\n        \"min\": 5239,\n        \"max\": 177900,\n        \"num_unique_values\": 307,\n        \"samples\": [\n          7499,\n          8328,\n          10830\n        ],\n        \"semantic_type\": \"\",\n        \"description\": \"\"\n      }\n    },\n    {\n      \"column\": \"Discount (%)\",\n      \"properties\": {\n        \"dtype\": \"number\",\n        \"std\": 10.596720246277547,\n        \"min\": 1.0,\n        \"max\": 62.0,\n        \"num_unique_values\": 54,\n        \"samples\": [\n          44.0,\n          46.0,\n          2.0\n        ],\n        \"semantic_type\": \"\",\n        \"description\": \"\"\n      }\n    },\n    {\n      \"column\": \"Price Before Discount\",\n      \"properties\": {\n        \"dtype\": \"number\",\n        \"std\": 31698,\n        \"min\": 6199,\n        \"max\": 184900,\n        \"num_unique_values\": 123,\n        \"samples\": [\n          19990,\n          39999,\n          59999\n        ],\n        \"semantic_type\": \"\",\n        \"description\": \"\"\n      }\n    },\n    {\n      \"column\": \"Resolution\",\n      \"properties\": {\n        \"dtype\": \"category\",\n        \"num_unique_values\": 136,\n        \"samples\": [\n          \"1612X720\",\n          \"1080 x 2408\",\n          \"1600*720\"\n        ],\n        \"semantic_type\": \"\",\n        \"description\": \"\"\n      }\n    },\n    {\n      \"column\": \"Operating System\",\n      \"properties\": {\n        \"dtype\": \"category\",\n        \"num_unique_values\": 48,\n        \"samples\": [\n          \"Android Q Funtouch OS 14 Based On Android 14\",\n          \"Android Android 14.0\",\n          \"Android Android 13 OxygenOS\"\n        ],\n        \"semantic_type\": \"\",\n        \"description\": \"\"\n      }\n    },\n    {\n      \"column\": \"RAM (GB)\",\n      \"properties\": {\n        \"dtype\": \"number\",\n        \"std\": 2.7150268456369333,\n        \"min\": 2.0,\n        \"max\": 16.0,\n        \"num_unique_values\": 7,\n        \"samples\": [\n          8.0,\n          4.0,\n          16.0\n        ],\n        \"semantic_type\": \"\",\n        \"description\": \"\"\n      }\n    },\n    {\n      \"column\": \"Primary Camera\",\n      \"properties\": {\n        \"dtype\": \"category\",\n        \"num_unique_values\": 79,\n        \"samples\": [\n          \"50MP + 5MP\",\n          \"108MP + 2MP + 2MP\",\n          \"48MP + 12MP\"\n        ],\n        \"semantic_type\": \"\",\n        \"description\": \"\"\n      }\n    },\n    {\n      \"column\": \"Battery Capacity (mAh)\",\n      \"properties\": {\n        \"dtype\": \"number\",\n        \"std\": 411.00791461806745,\n        \"min\": 3240.0,\n        \"max\": 6550.0,\n        \"num_unique_values\": 34,\n        \"samples\": [\n          6550.0,\n          5600.0,\n          4720.0\n        ],\n        \"semantic_type\": \"\",\n        \"description\": \"\"\n      }\n    },\n    {\n      \"column\": \"Brand Name\",\n      \"properties\": {\n        \"dtype\": \"category\",\n        \"num_unique_values\": 22,\n        \"samples\": [\n          \"Infinix\",\n          \"Apple\",\n          \"REDMI\"\n        ],\n        \"semantic_type\": \"\",\n        \"description\": \"\"\n      }\n    },\n    {\n      \"column\": \"Ratings Count\",\n      \"properties\": {\n        \"dtype\": \"number\",\n        \"std\": 238,\n        \"min\": 0,\n        \"max\": 966,\n        \"num_unique_values\": 146,\n        \"samples\": [\n          9,\n          49,\n          20\n        ],\n        \"semantic_type\": \"\",\n        \"description\": \"\"\n      }\n    },\n    {\n      \"column\": \"Reviews Count\",\n      \"properties\": {\n        \"dtype\": \"number\",\n        \"std\": 281,\n        \"min\": 0,\n        \"max\": 986,\n        \"num_unique_values\": 246,\n        \"samples\": [\n          379,\n          595,\n          344\n        ],\n        \"semantic_type\": \"\",\n        \"description\": \"\"\n      }\n    },\n    {\n      \"column\": \"Internal Storage (GB)\",\n      \"properties\": {\n        \"dtype\": \"category\",\n        \"num_unique_values\": 6,\n        \"samples\": [\n          \"256\",\n          \"128\",\n          \"32\"\n        ],\n        \"semantic_type\": \"\",\n        \"description\": \"\"\n      }\n    }\n  ]\n}"
            }
          },
          "metadata": {},
          "execution_count": 6
        }
      ]
    },
    {
      "cell_type": "markdown",
      "source": [
        "# **Data Analysis Of Smartphones Dataset**"
      ],
      "metadata": {
        "id": "URqIwRMSTwxy"
      }
    },
    {
      "cell_type": "markdown",
      "source": [
        "Q 1. What is the distribution of prices across all products?"
      ],
      "metadata": {
        "id": "sx-eQ6kdT2BH"
      }
    },
    {
      "cell_type": "code",
      "source": [
        "plt.figure(figsize=(10,6))\n",
        "sns.histplot(df['Price'], kde=True, bins=30)\n",
        "plt.title('Price Distribution of Products')\n",
        "plt.xlabel('Price')\n",
        "plt.ylabel('Frequency')\n",
        "plt.show()"
      ],
      "metadata": {
        "colab": {
          "base_uri": "https://localhost:8080/",
          "height": 564
        },
        "id": "--DmZsfSTVpm",
        "outputId": "638c4898-a11f-4236-d944-662d8950cc66"
      },
      "execution_count": 7,
      "outputs": [
        {
          "output_type": "display_data",
          "data": {
            "text/plain": [
              "<Figure size 1000x600 with 1 Axes>"
            ],
            "image/png": "[encoded data removed]"
          },
          "metadata": {}
        }
      ]
    },
    {
      "cell_type": "code",
      "source": [
        "summary_stats = df['Price'].describe()\n",
        "summary_stats"
      ],
      "metadata": {
        "colab": {
          "base_uri": "https://localhost:8080/",
          "height": 335
        },
        "id": "U9YsgK8NVa1K",
        "outputId": "cbf3a9c6-3b5f-4dbb-964a-f18799741051"
      },
      "execution_count": 8,
      "outputs": [
        {
          "output_type": "execute_result",
          "data": {
            "text/plain": [
              "count       761.000000\n",
              "mean      26908.938239\n",
              "std       28236.257011\n",
              "min        5239.000000\n",
              "25%       11699.000000\n",
              "50%       18500.000000\n",
              "75%       28999.000000\n",
              "max      177900.000000\n",
              "Name: Price, dtype: float64"
            ],
            "text/html": [
              "<div>\n",
              "<style scoped>\n",
              "    .dataframe tbody tr th:only-of-type {\n",
              "        vertical-align: middle;\n",
              "    }\n",
              "\n",
              "    .dataframe tbody tr th {\n",
              "        vertical-align: top;\n",
              "    }\n",
              "\n",
              "    .dataframe thead th {\n",
              "        text-align: right;\n",
              "    }\n",
              "</style>\n",
              "<table border=\"1\" class=\"dataframe\">\n",
              "  <thead>\n",
              "    <tr style=\"text-align: right;\">\n",
              "      <th></th>\n",
              "      <th>Price</th>\n",
              "    </tr>\n",
              "  </thead>\n",
              "  <tbody>\n",
              "    <tr>\n",
              "      <th>count</th>\n",
              "      <td>761.000000</td>\n",
              "    </tr>\n",
              "    <tr>\n",
              "      <th>mean</th>\n",
              "      <td>26908.938239</td>\n",
              "    </tr>\n",
              "    <tr>\n",
              "      <th>std</th>\n",
              "      <td>28236.257011</td>\n",
              "    </tr>\n",
              "    <tr>\n",
              "      <th>min</th>\n",
              "      <td>5239.000000</td>\n",
              "    </tr>\n",
              "    <tr>\n",
              "      <th>25%</th>\n",
              "      <td>11699.000000</td>\n",
              "    </tr>\n",
              "    <tr>\n",
              "      <th>50%</th>\n",
              "      <td>18500.000000</td>\n",
              "    </tr>\n",
              "    <tr>\n",
              "      <th>75%</th>\n",
              "      <td>28999.000000</td>\n",
              "    </tr>\n",
              "    <tr>\n",
              "      <th>max</th>\n",
              "      <td>177900.000000</td>\n",
              "    </tr>\n",
              "  </tbody>\n",
              "</table>\n",
              "</div><br><label><b>dtype:</b> float64</label>"
            ]
          },
          "metadata": {},
          "execution_count": 8
        }
      ]
    },
    {
      "cell_type": "markdown",
      "source": [
        "Q 2. What is the average price of products in the dataset?"
      ],
      "metadata": {
        "id": "TekLOi8mT6r1"
      }
    },
    {
      "cell_type": "code",
      "source": [
        "df['Price'].mean()"
      ],
      "metadata": {
        "colab": {
          "base_uri": "https://localhost:8080/"
        },
        "id": "W2y9aXP4T9Vr",
        "outputId": "98290c5d-3b83-443e-f066-a0a4ef83907d"
      },
      "execution_count": 9,
      "outputs": [
        {
          "output_type": "execute_result",
          "data": {
            "text/plain": [
              "26908.938239159"
            ]
          },
          "metadata": {},
          "execution_count": 9
        }
      ]
    },
    {
      "cell_type": "markdown",
      "source": [
        "Q 3. How many products have discounts, and what is the average discount percentage?"
      ],
      "metadata": {
        "id": "QiMalkSvUAb7"
      }
    },
    {
      "cell_type": "code",
      "source": [
        "products_with_discount = df[df['Discount (%)'] > 0]\n",
        "count_discounted_products = products_with_discount.shape[0]\n",
        "print(f\"Number of products with discounts: {count_discounted_products}\")\n",
        "\n",
        "average_discount = df['Discount (%)'].mean()\n",
        "print(f\"Average discount percentage: {average_discount:.2f}%\")"
      ],
      "metadata": {
        "colab": {
          "base_uri": "https://localhost:8080/"
        },
        "id": "RauaJI1PT-6I",
        "outputId": "d84880f9-0476-42fa-ae74-18673f57cedc"
      },
      "execution_count": 10,
      "outputs": [
        {
          "output_type": "stream",
          "name": "stdout",
          "text": [
            "Number of products with discounts: 761\n",
            "Average discount percentage: 22.57%\n"
          ]
        }
      ]
    },
    {
      "cell_type": "markdown",
      "source": [
        "Q 4. What is the relationship between price and discount percentage?"
      ],
      "metadata": {
        "id": "R0O2oTrDUD6x"
      }
    },
    {
      "cell_type": "code",
      "source": [
        "plt.figure(figsize=(10,6))\n",
        "sns.regplot(x=df['Price'], y=df['Discount (%)'], line_kws={'color': 'red'})\n",
        "plt.title('Price vs Discount Percentage with Regression Line')\n",
        "plt.xlabel('Price')\n",
        "plt.ylabel('Discount (%)')\n",
        "plt.show()"
      ],
      "metadata": {
        "colab": {
          "base_uri": "https://localhost:8080/",
          "height": 564
        },
        "id": "UwJP9KaIUHS5",
        "outputId": "1f6d955e-1347-478e-bc2b-95ed635db954"
      },
      "execution_count": 12,
      "outputs": [
        {
          "output_type": "display_data",
          "data": {
            "text/plain": [
              "<Figure size 1000x600 with 1 Axes>"
            ],
            "image/png": "[encoded data removed]"
          },
          "metadata": {}
        }
      ]
    },
    {
      "cell_type": "code",
      "source": [
        "correlation = df['Price'].corr(df['Discount (%)'])\n",
        "print(f\"Correlation between Price and Discount: {correlation:.2f}\")"
      ],
      "metadata": {
        "colab": {
          "base_uri": "https://localhost:8080/"
        },
        "id": "yleegNiXV5ao",
        "outputId": "cd48d1f2-ab6c-48c0-aadb-7e5e7bb7b4c2"
      },
      "execution_count": 13,
      "outputs": [
        {
          "output_type": "stream",
          "name": "stdout",
          "text": [
            "Correlation between Price and Discount: -0.38\n"
          ]
        }
      ]
    },
    {
      "cell_type": "markdown",
      "source": [
        "Q 5. What is the correlation between price and ratings?"
      ],
      "metadata": {
        "id": "8-fUwMvKUHud"
      }
    },
    {
      "cell_type": "code",
      "source": [
        "df['Rating'] = pd.to_numeric(df['Rating'], errors='coerce')"
      ],
      "metadata": {
        "id": "b_NcxIytWeYU"
      },
      "execution_count": 18,
      "outputs": []
    },
    {
      "cell_type": "code",
      "source": [
        "plt.figure(figsize=(10,6))\n",
        "sns.scatterplot(x=df['Price'], y=df['Rating'])\n",
        "plt.title('Price vs Ratings')\n",
        "plt.xlabel('Price')\n",
        "plt.ylabel('Ratings')\n",
        "plt.show()"
      ],
      "metadata": {
        "colab": {
          "base_uri": "https://localhost:8080/",
          "height": 564
        },
        "id": "mPyW-OKDUKUU",
        "outputId": "d3dcb021-844e-4ffc-cf01-52b9b88e533d"
      },
      "execution_count": 19,
      "outputs": [
        {
          "output_type": "display_data",
          "data": {
            "text/plain": [
              "<Figure size 1000x600 with 1 Axes>"
            ],
            "image/png": "[encoded data removed]"
          },
          "metadata": {}
        }
      ]
    },
    {
      "cell_type": "code",
      "source": [
        "correlation = df['Price'].corr(df['Rating'])\n",
        "print(f\"Correlation between Price and Ratings: {correlation:.2f}\")"
      ],
      "metadata": {
        "colab": {
          "base_uri": "https://localhost:8080/"
        },
        "id": "Jr7FpM6BWKZ6",
        "outputId": "ada0d96c-7c55-4a68-869b-4a9e2735472d"
      },
      "execution_count": 20,
      "outputs": [
        {
          "output_type": "stream",
          "name": "stdout",
          "text": [
            "Correlation between Price and Ratings: 0.61\n"
          ]
        }
      ]
    },
    {
      "cell_type": "markdown",
      "source": [
        "Q 6. What is the distribution of ratings for the products?"
      ],
      "metadata": {
        "id": "zIkgZWCHULID"
      }
    },
    {
      "cell_type": "code",
      "source": [
        "plt.figure(figsize=(10,6))\n",
        "sns.histplot(df['Rating'], kde=True, bins=10)\n",
        "plt.title('Distribution of Product Ratings')\n",
        "plt.xlabel('Rating')\n",
        "plt.ylabel('Frequency')\n",
        "plt.show()"
      ],
      "metadata": {
        "colab": {
          "base_uri": "https://localhost:8080/",
          "height": 564
        },
        "id": "dkFhSHCUUPUI",
        "outputId": "c9223bc8-332b-4b32-c8d2-e138a0015bf6"
      },
      "execution_count": 21,
      "outputs": [
        {
          "output_type": "display_data",
          "data": {
            "text/plain": [
              "<Figure size 1000x600 with 1 Axes>"
            ],
            "image/png": "[encoded data removed]"
          },
          "metadata": {}
        }
      ]
    },
    {
      "cell_type": "code",
      "source": [
        "summary_stats_ratings = df['Rating'].describe()\n",
        "summary_stats_ratings"
      ],
      "metadata": {
        "colab": {
          "base_uri": "https://localhost:8080/",
          "height": 335
        },
        "id": "okAiy1iCWoUM",
        "outputId": "25aeee5c-df8b-4105-ebe9-41dd61894eb3"
      },
      "execution_count": 22,
      "outputs": [
        {
          "output_type": "execute_result",
          "data": {
            "text/plain": [
              "count    757.000000\n",
              "mean       4.337517\n",
              "std        0.158509\n",
              "min        3.700000\n",
              "25%        4.200000\n",
              "50%        4.300000\n",
              "75%        4.400000\n",
              "max        5.000000\n",
              "Name: Rating, dtype: float64"
            ],
            "text/html": [
              "<div>\n",
              "<style scoped>\n",
              "    .dataframe tbody tr th:only-of-type {\n",
              "        vertical-align: middle;\n",
              "    }\n",
              "\n",
              "    .dataframe tbody tr th {\n",
              "        vertical-align: top;\n",
              "    }\n",
              "\n",
              "    .dataframe thead th {\n",
              "        text-align: right;\n",
              "    }\n",
              "</style>\n",
              "<table border=\"1\" class=\"dataframe\">\n",
              "  <thead>\n",
              "    <tr style=\"text-align: right;\">\n",
              "      <th></th>\n",
              "      <th>Rating</th>\n",
              "    </tr>\n",
              "  </thead>\n",
              "  <tbody>\n",
              "    <tr>\n",
              "      <th>count</th>\n",
              "      <td>757.000000</td>\n",
              "    </tr>\n",
              "    <tr>\n",
              "      <th>mean</th>\n",
              "      <td>4.337517</td>\n",
              "    </tr>\n",
              "    <tr>\n",
              "      <th>std</th>\n",
              "      <td>0.158509</td>\n",
              "    </tr>\n",
              "    <tr>\n",
              "      <th>min</th>\n",
              "      <td>3.700000</td>\n",
              "    </tr>\n",
              "    <tr>\n",
              "      <th>25%</th>\n",
              "      <td>4.200000</td>\n",
              "    </tr>\n",
              "    <tr>\n",
              "      <th>50%</th>\n",
              "      <td>4.300000</td>\n",
              "    </tr>\n",
              "    <tr>\n",
              "      <th>75%</th>\n",
              "      <td>4.400000</td>\n",
              "    </tr>\n",
              "    <tr>\n",
              "      <th>max</th>\n",
              "      <td>5.000000</td>\n",
              "    </tr>\n",
              "  </tbody>\n",
              "</table>\n",
              "</div><br><label><b>dtype:</b> float64</label>"
            ]
          },
          "metadata": {},
          "execution_count": 22
        }
      ]
    },
    {
      "cell_type": "markdown",
      "source": [
        "Q 7. What is the most common operating system used in these products?"
      ],
      "metadata": {
        "id": "-zS36h9TUP0h"
      }
    },
    {
      "cell_type": "code",
      "source": [
        "os_counts = df['Operating System'].value_counts()\n",
        "os_counts.head(1)"
      ],
      "metadata": {
        "colab": {
          "base_uri": "https://localhost:8080/",
          "height": 147
        },
        "id": "L8iy-hCEUSPx",
        "outputId": "7af052ba-fab4-46ee-9b35-a91653e2c30f"
      },
      "execution_count": 26,
      "outputs": [
        {
          "output_type": "execute_result",
          "data": {
            "text/plain": [
              "Operating System\n",
              "Android 14    374\n",
              "Name: count, dtype: int64"
            ],
            "text/html": [
              "<div>\n",
              "<style scoped>\n",
              "    .dataframe tbody tr th:only-of-type {\n",
              "        vertical-align: middle;\n",
              "    }\n",
              "\n",
              "    .dataframe tbody tr th {\n",
              "        vertical-align: top;\n",
              "    }\n",
              "\n",
              "    .dataframe thead th {\n",
              "        text-align: right;\n",
              "    }\n",
              "</style>\n",
              "<table border=\"1\" class=\"dataframe\">\n",
              "  <thead>\n",
              "    <tr style=\"text-align: right;\">\n",
              "      <th></th>\n",
              "      <th>count</th>\n",
              "    </tr>\n",
              "    <tr>\n",
              "      <th>Operating System</th>\n",
              "      <th></th>\n",
              "    </tr>\n",
              "  </thead>\n",
              "  <tbody>\n",
              "    <tr>\n",
              "      <th>Android 14</th>\n",
              "      <td>374</td>\n",
              "    </tr>\n",
              "  </tbody>\n",
              "</table>\n",
              "</div><br><label><b>dtype:</b> int64</label>"
            ]
          },
          "metadata": {},
          "execution_count": 26
        }
      ]
    },
    {
      "cell_type": "markdown",
      "source": [
        "Q 8. What is the average battery capacity for products in the dataset?"
      ],
      "metadata": {
        "id": "z1TJUlncUSj-"
      }
    },
    {
      "cell_type": "code",
      "source": [
        "average_battery_capacity = df['Battery Capacity (mAh)'].mean()\n",
        "print(f\"The average battery capacity for the products is: {average_battery_capacity:.2f} mAh\")"
      ],
      "metadata": {
        "colab": {
          "base_uri": "https://localhost:8080/"
        },
        "id": "uOYcvWYYUVMM",
        "outputId": "d0e4e2c0-a230-4821-ad4d-4a4726feb51f"
      },
      "execution_count": 29,
      "outputs": [
        {
          "output_type": "stream",
          "name": "stdout",
          "text": [
            "The average battery capacity for the products is: 5127.84 mAh\n"
          ]
        }
      ]
    },
    {
      "cell_type": "markdown",
      "source": [
        "Q 9. What is the distribution of RAM (GB) in the dataset?"
      ],
      "metadata": {
        "id": "d7vdBbLNUVnK"
      }
    },
    {
      "cell_type": "code",
      "source": [
        "plt.figure(figsize=(10,6))\n",
        "sns.histplot(df['RAM (GB)'], kde=True, bins=15)\n",
        "plt.title('Distribution of RAM (GB) in Products')\n",
        "plt.xlabel('RAM (GB)')\n",
        "plt.ylabel('Frequency')\n",
        "plt.show()"
      ],
      "metadata": {
        "colab": {
          "base_uri": "https://localhost:8080/",
          "height": 564
        },
        "id": "GadNXHAJUYR2",
        "outputId": "8e2d2958-2434-4582-ccb1-679dffb7525e"
      },
      "execution_count": 30,
      "outputs": [
        {
          "output_type": "display_data",
          "data": {
            "text/plain": [
              "<Figure size 1000x600 with 1 Axes>"
            ],
            "image/png": "[encoded data removed]"
          },
          "metadata": {}
        }
      ]
    },
    {
      "cell_type": "markdown",
      "source": [
        "Q 10. How many products have a high rating but low reviews count?"
      ],
      "metadata": {
        "id": "96LdAhh8UYpM"
      }
    },
    {
      "cell_type": "code",
      "source": [
        "high_rating_threshold = 4.0\n",
        "low_reviews_threshold = 50\n",
        "\n",
        "high_rating_low_reviews = df[(df['Rating'] >= high_rating_threshold) & (df['Reviews Count'] < low_reviews_threshold)]\n",
        "\n",
        "count_high_rating_low_reviews = high_rating_low_reviews.shape[0]\n",
        "\n",
        "print(f\"Number of products with high rating but low review count: {count_high_rating_low_reviews}\")"
      ],
      "metadata": {
        "colab": {
          "base_uri": "https://localhost:8080/"
        },
        "id": "Yt2Wg33KUbmm",
        "outputId": "e090dd84-90c1-4a86-cbe6-89cacc8f26ec"
      },
      "execution_count": 31,
      "outputs": [
        {
          "output_type": "stream",
          "name": "stdout",
          "text": [
            "Number of products with high rating but low review count: 192\n"
          ]
        }
      ]
    },
    {
      "cell_type": "markdown",
      "source": [
        "Q 11. What is the most common brand in the dataset?"
      ],
      "metadata": {
        "id": "5XyRkHGSUcKT"
      }
    },
    {
      "cell_type": "code",
      "source": [
        "brand_counts = df['Brand Name'].value_counts()\n",
        "brand_counts.head(1)"
      ],
      "metadata": {
        "colab": {
          "base_uri": "https://localhost:8080/",
          "height": 147
        },
        "id": "gLrigtwLUe-_",
        "outputId": "49cbdafc-54e3-45f3-f84b-b64d1ce0e1fa"
      },
      "execution_count": 35,
      "outputs": [
        {
          "output_type": "execute_result",
          "data": {
            "text/plain": [
              "Brand Name\n",
              "realme    130\n",
              "Name: count, dtype: int64"
            ],
            "text/html": [
              "<div>\n",
              "<style scoped>\n",
              "    .dataframe tbody tr th:only-of-type {\n",
              "        vertical-align: middle;\n",
              "    }\n",
              "\n",
              "    .dataframe tbody tr th {\n",
              "        vertical-align: top;\n",
              "    }\n",
              "\n",
              "    .dataframe thead th {\n",
              "        text-align: right;\n",
              "    }\n",
              "</style>\n",
              "<table border=\"1\" class=\"dataframe\">\n",
              "  <thead>\n",
              "    <tr style=\"text-align: right;\">\n",
              "      <th></th>\n",
              "      <th>count</th>\n",
              "    </tr>\n",
              "    <tr>\n",
              "      <th>Brand Name</th>\n",
              "      <th></th>\n",
              "    </tr>\n",
              "  </thead>\n",
              "  <tbody>\n",
              "    <tr>\n",
              "      <th>realme</th>\n",
              "      <td>130</td>\n",
              "    </tr>\n",
              "  </tbody>\n",
              "</table>\n",
              "</div><br><label><b>dtype:</b> int64</label>"
            ]
          },
          "metadata": {},
          "execution_count": 35
        }
      ]
    },
    {
      "cell_type": "markdown",
      "source": [
        "Q 12. What is the relationship between internal storage (GB) and price?"
      ],
      "metadata": {
        "id": "tJWuRa0GUfjg"
      }
    },
    {
      "cell_type": "code",
      "source": [
        "# Creating categories for internal storage\n",
        "bins = [0, 32, 64, 128, 256, 512, 1024]  # Define your storage bins\n",
        "labels = ['0-32GB', '32-64GB', '64-128GB', '128-256GB', '256-512GB', '512GB+']\n",
        "df['Storage Category'] = pd.cut(df['Internal Storage (GB)'], bins=bins, labels=labels)\n",
        "\n",
        "# Box plot to see the distribution of price across storage categories\n",
        "plt.figure(figsize=(10,6))\n",
        "sns.boxplot(x='Storage Category', y='Price', data=df)\n",
        "plt.title('Price Distribution by Internal Storage Category')\n",
        "plt.xlabel('Storage Category')\n",
        "plt.ylabel('Price')\n",
        "plt.show()"
      ],
      "metadata": {
        "colab": {
          "base_uri": "https://localhost:8080/",
          "height": 356
        },
        "id": "c4Tw03ptUh1o",
        "outputId": "7a56c9d3-5f74-4d0d-e089-5629b99e43b5"
      },
      "execution_count": 37,
      "outputs": [
        {
          "output_type": "error",
          "ename": "TypeError",
          "evalue": "'<' not supported between instances of 'int' and 'str'",
          "traceback": [
            "\u001b[0;31m---------------------------------------------------------------------------\u001b[0m",
            "\u001b[0;31mTypeError\u001b[0m                                 Traceback (most recent call last)",
            "\u001b[0;32m<ipython-input-37-f0ac1f2dc6e9>\u001b[0m in \u001b[0;36m<cell line: 0>\u001b[0;34m()\u001b[0m\n\u001b[1;32m      2\u001b[0m \u001b[0mbins\u001b[0m \u001b[0;34m=\u001b[0m \u001b[0;34m[\u001b[0m\u001b[0;36m0\u001b[0m\u001b[0;34m,\u001b[0m \u001b[0;36m32\u001b[0m\u001b[0;34m,\u001b[0m \u001b[0;36m64\u001b[0m\u001b[0;34m,\u001b[0m \u001b[0;36m128\u001b[0m\u001b[0;34m,\u001b[0m \u001b[0;36m256\u001b[0m\u001b[0;34m,\u001b[0m \u001b[0;36m512\u001b[0m\u001b[0;34m,\u001b[0m \u001b[0;36m1024\u001b[0m\u001b[0;34m]\u001b[0m  \u001b[0;31m# Define your storage bins\u001b[0m\u001b[0;34m\u001b[0m\u001b[0;34m\u001b[0m\u001b[0m\n\u001b[1;32m      3\u001b[0m \u001b[0mlabels\u001b[0m \u001b[0;34m=\u001b[0m \u001b[0;34m[\u001b[0m\u001b[0;34m'0-32GB'\u001b[0m\u001b[0;34m,\u001b[0m \u001b[0;34m'32-64GB'\u001b[0m\u001b[0;34m,\u001b[0m \u001b[0;34m'64-128GB'\u001b[0m\u001b[0;34m,\u001b[0m \u001b[0;34m'128-256GB'\u001b[0m\u001b[0;34m,\u001b[0m \u001b[0;34m'256-512GB'\u001b[0m\u001b[0;34m,\u001b[0m \u001b[0;34m'512GB+'\u001b[0m\u001b[0;34m]\u001b[0m\u001b[0;34m\u001b[0m\u001b[0;34m\u001b[0m\u001b[0m\n\u001b[0;32m----> 4\u001b[0;31m \u001b[0mdf\u001b[0m\u001b[0;34m[\u001b[0m\u001b[0;34m'Storage Category'\u001b[0m\u001b[0;34m]\u001b[0m \u001b[0;34m=\u001b[0m \u001b[0mpd\u001b[0m\u001b[0;34m.\u001b[0m\u001b[0mcut\u001b[0m\u001b[0;34m(\u001b[0m\u001b[0mdf\u001b[0m\u001b[0;34m[\u001b[0m\u001b[0;34m'Internal Storage (GB)'\u001b[0m\u001b[0;34m]\u001b[0m\u001b[0;34m,\u001b[0m \u001b[0mbins\u001b[0m\u001b[0;34m=\u001b[0m\u001b[0mbins\u001b[0m\u001b[0;34m,\u001b[0m \u001b[0mlabels\u001b[0m\u001b[0;34m=\u001b[0m\u001b[0mlabels\u001b[0m\u001b[0;34m)\u001b[0m\u001b[0;34m\u001b[0m\u001b[0;34m\u001b[0m\u001b[0m\n\u001b[0m\u001b[1;32m      5\u001b[0m \u001b[0;34m\u001b[0m\u001b[0m\n\u001b[1;32m      6\u001b[0m \u001b[0;31m# Box plot to see the distribution of price across storage categories\u001b[0m\u001b[0;34m\u001b[0m\u001b[0;34m\u001b[0m\u001b[0m\n",
            "\u001b[0;32m/usr/local/lib/python3.11/dist-packages/pandas/core/reshape/tile.py\u001b[0m in \u001b[0;36mcut\u001b[0;34m(x, bins, right, labels, retbins, precision, include_lowest, duplicates, ordered)\u001b[0m\n\u001b[1;32m    255\u001b[0m             \u001b[0;32mraise\u001b[0m \u001b[0mValueError\u001b[0m\u001b[0;34m(\u001b[0m\u001b[0;34m\"bins must increase monotonically.\"\u001b[0m\u001b[0;34m)\u001b[0m\u001b[0;34m\u001b[0m\u001b[0;34m\u001b[0m\u001b[0m\n\u001b[1;32m    256\u001b[0m \u001b[0;34m\u001b[0m\u001b[0m\n\u001b[0;32m--> 257\u001b[0;31m     fac, bins = _bins_to_cuts(\n\u001b[0m\u001b[1;32m    258\u001b[0m         \u001b[0mx_idx\u001b[0m\u001b[0;34m,\u001b[0m\u001b[0;34m\u001b[0m\u001b[0;34m\u001b[0m\u001b[0m\n\u001b[1;32m    259\u001b[0m         \u001b[0mbins\u001b[0m\u001b[0;34m,\u001b[0m\u001b[0;34m\u001b[0m\u001b[0;34m\u001b[0m\u001b[0m\n",
            "\u001b[0;32m/usr/local/lib/python3.11/dist-packages/pandas/core/reshape/tile.py\u001b[0m in \u001b[0;36m_bins_to_cuts\u001b[0;34m(x_idx, bins, right, labels, precision, include_lowest, duplicates, ordered)\u001b[0m\n\u001b[1;32m    450\u001b[0m \u001b[0;34m\u001b[0m\u001b[0m\n\u001b[1;32m    451\u001b[0m     \u001b[0;32mtry\u001b[0m\u001b[0;34m:\u001b[0m\u001b[0;34m\u001b[0m\u001b[0;34m\u001b[0m\u001b[0m\n\u001b[0;32m--> 452\u001b[0;31m         \u001b[0mids\u001b[0m \u001b[0;34m=\u001b[0m \u001b[0mbins\u001b[0m\u001b[0;34m.\u001b[0m\u001b[0msearchsorted\u001b[0m\u001b[0;34m(\u001b[0m\u001b[0mx_idx\u001b[0m\u001b[0;34m,\u001b[0m \u001b[0mside\u001b[0m\u001b[0;34m=\u001b[0m\u001b[0mside\u001b[0m\u001b[0;34m)\u001b[0m\u001b[0;34m\u001b[0m\u001b[0;34m\u001b[0m\u001b[0m\n\u001b[0m\u001b[1;32m    453\u001b[0m     \u001b[0;32mexcept\u001b[0m \u001b[0mTypeError\u001b[0m \u001b[0;32mas\u001b[0m \u001b[0merr\u001b[0m\u001b[0;34m:\u001b[0m\u001b[0;34m\u001b[0m\u001b[0;34m\u001b[0m\u001b[0m\n\u001b[1;32m    454\u001b[0m         \u001b[0;31m# e.g. test_datetime_nan_error if bins are DatetimeArray and x_idx\u001b[0m\u001b[0;34m\u001b[0m\u001b[0;34m\u001b[0m\u001b[0m\n",
            "\u001b[0;32m/usr/local/lib/python3.11/dist-packages/pandas/core/base.py\u001b[0m in \u001b[0;36msearchsorted\u001b[0;34m(self, value, side, sorter)\u001b[0m\n\u001b[1;32m   1350\u001b[0m             \u001b[0;32mreturn\u001b[0m \u001b[0mvalues\u001b[0m\u001b[0;34m.\u001b[0m\u001b[0msearchsorted\u001b[0m\u001b[0;34m(\u001b[0m\u001b[0mvalue\u001b[0m\u001b[0;34m,\u001b[0m \u001b[0mside\u001b[0m\u001b[0;34m=\u001b[0m\u001b[0mside\u001b[0m\u001b[0;34m,\u001b[0m \u001b[0msorter\u001b[0m\u001b[0;34m=\u001b[0m\u001b[0msorter\u001b[0m\u001b[0;34m)\u001b[0m\u001b[0;34m\u001b[0m\u001b[0;34m\u001b[0m\u001b[0m\n\u001b[1;32m   1351\u001b[0m \u001b[0;34m\u001b[0m\u001b[0m\n\u001b[0;32m-> 1352\u001b[0;31m         return algorithms.searchsorted(\n\u001b[0m\u001b[1;32m   1353\u001b[0m             \u001b[0mvalues\u001b[0m\u001b[0;34m,\u001b[0m\u001b[0;34m\u001b[0m\u001b[0;34m\u001b[0m\u001b[0m\n\u001b[1;32m   1354\u001b[0m             \u001b[0mvalue\u001b[0m\u001b[0;34m,\u001b[0m\u001b[0;34m\u001b[0m\u001b[0;34m\u001b[0m\u001b[0m\n",
            "\u001b[0;32m/usr/local/lib/python3.11/dist-packages/pandas/core/algorithms.py\u001b[0m in \u001b[0;36msearchsorted\u001b[0;34m(arr, value, side, sorter)\u001b[0m\n\u001b[1;32m   1327\u001b[0m     \u001b[0;31m# Argument 1 to \"searchsorted\" of \"ndarray\" has incompatible type\u001b[0m\u001b[0;34m\u001b[0m\u001b[0;34m\u001b[0m\u001b[0m\n\u001b[1;32m   1328\u001b[0m     \u001b[0;31m# \"Union[NumpyValueArrayLike, ExtensionArray]\"; expected \"NumpyValueArrayLike\"\u001b[0m\u001b[0;34m\u001b[0m\u001b[0;34m\u001b[0m\u001b[0m\n\u001b[0;32m-> 1329\u001b[0;31m     \u001b[0;32mreturn\u001b[0m \u001b[0marr\u001b[0m\u001b[0;34m.\u001b[0m\u001b[0msearchsorted\u001b[0m\u001b[0;34m(\u001b[0m\u001b[0mvalue\u001b[0m\u001b[0;34m,\u001b[0m \u001b[0mside\u001b[0m\u001b[0;34m=\u001b[0m\u001b[0mside\u001b[0m\u001b[0;34m,\u001b[0m \u001b[0msorter\u001b[0m\u001b[0;34m=\u001b[0m\u001b[0msorter\u001b[0m\u001b[0;34m)\u001b[0m  \u001b[0;31m# type: ignore[arg-type]\u001b[0m\u001b[0;34m\u001b[0m\u001b[0;34m\u001b[0m\u001b[0m\n\u001b[0m\u001b[1;32m   1330\u001b[0m \u001b[0;34m\u001b[0m\u001b[0m\n\u001b[1;32m   1331\u001b[0m \u001b[0;34m\u001b[0m\u001b[0m\n",
            "\u001b[0;31mTypeError\u001b[0m: '<' not supported between instances of 'int' and 'str'"
          ]
        }
      ]
    },
    {
      "cell_type": "markdown",
      "source": [
        "Q 13. What is the average battery capacity for each brand?"
      ],
      "metadata": {
        "id": "afw8lLTEUiTg"
      }
    },
    {
      "cell_type": "code",
      "source": [
        "average_battery_by_brand = df.groupby('Brand Name')['Battery Capacity (mAh)'].mean()\n",
        "\n",
        "print(average_battery_by_brand)"
      ],
      "metadata": {
        "colab": {
          "base_uri": "https://localhost:8080/"
        },
        "id": "GEnVgiWnUkL_",
        "outputId": "6f98bd96-6880-4d3f-a0e9-3a2ff47d7d91"
      },
      "execution_count": 38,
      "outputs": [
        {
          "output_type": "stream",
          "name": "stdout",
          "text": [
            "Brand Name\n",
            "(Refurbished)    5000.000000\n",
            "Apple            4949.714286\n",
            "CMF              5000.000000\n",
            "Google           4564.076923\n",
            "IQOO             5355.172414\n",
            "Infinix          4968.947368\n",
            "LAVA             5000.000000\n",
            "MOTOROLA         5050.000000\n",
            "Mi               4625.000000\n",
            "Motorola         5010.750000\n",
            "Nokia            5000.000000\n",
            "Nothing          5000.000000\n",
            "OPPO             5205.000000\n",
            "OnePlus          5378.947368\n",
            "POCO             5176.590909\n",
            "REDMI            5124.952381\n",
            "SAMSUNG          5127.000000\n",
            "Tecno            5000.000000\n",
            "Xiaomi           4700.000000\n",
            "itel             4769.230769\n",
            "realme           5190.000000\n",
            "vivo             5240.000000\n",
            "Name: Battery Capacity (mAh), dtype: float64\n"
          ]
        }
      ]
    },
    {
      "cell_type": "markdown",
      "source": [
        "Q 14. What is the price distribution for each operating system?"
      ],
      "metadata": {
        "id": "2guTlvkrUkth"
      }
    },
    {
      "cell_type": "code",
      "source": [
        "price_stats = df.groupby('Operating System')['Price'].describe()\n",
        "price_stats"
      ],
      "metadata": {
        "colab": {
          "base_uri": "https://localhost:8080/",
          "height": 1000
        },
        "id": "xOXoXkQVUnLy",
        "outputId": "34581434-362d-480a-949b-8bb7fa5b3a05"
      },
      "execution_count": 42,
      "outputs": [
        {
          "output_type": "execute_result",
          "data": {
            "text/plain": [
              "                                                    count           mean  \\\n",
              "Operating System                                                           \n",
              "Android                                              20.0   20607.900000   \n",
              "Android 10                                            2.0    7180.000000   \n",
              "Android 11                                            6.0   12545.666667   \n",
              "Android 12                                           27.0   20578.851852   \n",
              "Android 12 (Go Edition)                               1.0    8299.000000   \n",
              "Android 12 Go                                         1.0    7490.000000   \n",
              "Android 13                                          116.0   20330.706897   \n",
              "Android 13 Go                                        11.0    6833.545455   \n",
              "Android 14                                          374.0   22243.799465   \n",
              "Android 14 Go                                         5.0    6259.600000   \n",
              "Android 15                                           38.0   49104.263158   \n",
              "Android ANDROID 14                                    6.0   11365.833333   \n",
              "Android ANdroid 13 OxygenOS                           2.0   25940.000000   \n",
              "Android Android 10                                    1.0   17975.000000   \n",
              "Android Android 13                                    5.0   24640.400000   \n",
              "Android Android 13 OxygenOS                           1.0   22390.000000   \n",
              "Android Android 13, v13.0 Operating System havi...    1.0    7365.000000   \n",
              "Android Android 13.0                                  6.0    9097.666667   \n",
              "Android Android 14                                   25.0   13517.720000   \n",
              "Android Android 14.0                                  1.0   11979.000000   \n",
              "Android Android V14                                   2.0   36534.500000   \n",
              "Android Android v14                                   3.0   29082.666667   \n",
              "Android Funtouch OS 12                                1.0   23990.000000   \n",
              "Android Funtouch OS 14 Based On Android 14            1.0   20479.000000   \n",
              "Android Funtouch OS 14 based on Android 14            8.0   22709.500000   \n",
              "Android KitKat Android 13                             1.0   10999.000000   \n",
              "Android Oxygen                                        8.0   19420.375000   \n",
              "Android Oxygen 12.1                                   1.0   10983.000000   \n",
              "Android Oxygen 14                                    10.0   17127.800000   \n",
              "Android Oxygen 15                                     4.0   45215.500000   \n",
              "Android Oxygen Android 13.1                           1.0   26599.000000   \n",
              "Android Oxygen Android 14                             1.0   12437.000000   \n",
              "Android Oxygen Android v14                            1.0   62999.000000   \n",
              "Android Oxygen OxygenOS 14                            1.0   40799.000000   \n",
              "Android Oxygen OxygenOS 14.0                          2.0   22334.000000   \n",
              "Android Oxygen OxygenOS based on Android 13           1.0   33990.000000   \n",
              "Android Oxygen OxygenOS14.0                           2.0   21684.500000   \n",
              "Android OxygenOS based on Android 13                  3.0   36017.333333   \n",
              "Android Pie One UI Core 6.0                           1.0    6939.000000   \n",
              "Android Q 14                                          7.0   15120.142857   \n",
              "Android Q ?Android 14                                 1.0   12493.000000   \n",
              "Android Q ?Funtouch OS 14 Based On Android 14         1.0   35999.000000   \n",
              "Android Q Android 14                                 15.0   16464.666667   \n",
              "Android Q Funtouch OS 14 Based On Android 14          1.0   17963.000000   \n",
              "iOS 15                                                1.0   44749.000000   \n",
              "iOS 16                                                1.0   81999.000000   \n",
              "iOS 17                                                5.0   64799.000000   \n",
              "iOS 18                                               28.0  139042.750000   \n",
              "\n",
              "                                                             std      min  \\\n",
              "Operating System                                                            \n",
              "Android                                             10652.062073   6449.0   \n",
              "Android 10                                            424.264069   6880.0   \n",
              "Android 11                                           6389.821834   5389.0   \n",
              "Android 12                                          19538.548294   7290.0   \n",
              "Android 12 (Go Edition)                                      NaN   8299.0   \n",
              "Android 12 Go                                                NaN   7490.0   \n",
              "Android 13                                          17097.817825   7365.0   \n",
              "Android 13 Go                                        1025.869033   5239.0   \n",
              "Android 14                                          14238.969090   5499.0   \n",
              "Android 14 Go                                         156.319545   6099.0   \n",
              "Android 15                                          31305.633267   6999.0   \n",
              "Android ANDROID 14                                    558.977429  10778.0   \n",
              "Android ANdroid 13 OxygenOS                          4864.894655  22500.0   \n",
              "Android Android 10                                           NaN  17975.0   \n",
              "Android Android 13                                  20562.539782   8499.0   \n",
              "Android Android 13 OxygenOS                                  NaN  22390.0   \n",
              "Android Android 13, v13.0 Operating System havi...           NaN   7365.0   \n",
              "Android Android 13.0                                  697.853757   8262.0   \n",
              "Android Android 14                                   8518.050523   6899.0   \n",
              "Android Android 14.0                                         NaN  11979.0   \n",
              "Android Android V14                                  4759.535744  33169.0   \n",
              "Android Android v14                                 16148.360608  10449.0   \n",
              "Android Funtouch OS 12                                       NaN  23990.0   \n",
              "Android Funtouch OS 14 Based On Android 14                   NaN  20479.0   \n",
              "Android Funtouch OS 14 based on Android 14           7129.575042  11590.0   \n",
              "Android KitKat Android 13                                    NaN  10999.0   \n",
              "Android Oxygen                                       2304.183893  17275.0   \n",
              "Android Oxygen 12.1                                          NaN  10983.0   \n",
              "Android Oxygen 14                                    4764.752478   8545.0   \n",
              "Android Oxygen 15                                    4808.467427  40964.0   \n",
              "Android Oxygen Android 13.1                                  NaN  26599.0   \n",
              "Android Oxygen Android 14                                    NaN  12437.0   \n",
              "Android Oxygen Android v14                                   NaN  62999.0   \n",
              "Android Oxygen OxygenOS 14                                   NaN  40799.0   \n",
              "Android Oxygen OxygenOS 14.0                         1373.201369  21363.0   \n",
              "Android Oxygen OxygenOS based on Android 13                  NaN  33990.0   \n",
              "Android Oxygen OxygenOS14.0                             0.707107  21684.0   \n",
              "Android OxygenOS based on Android 13                  781.512209  35382.0   \n",
              "Android Pie One UI Core 6.0                                  NaN   6939.0   \n",
              "Android Q 14                                         4768.534661  12417.0   \n",
              "Android Q ?Android 14                                        NaN  12493.0   \n",
              "Android Q ?Funtouch OS 14 Based On Android 14                NaN  35999.0   \n",
              "Android Q Android 14                                 4184.557370  10599.0   \n",
              "Android Q Funtouch OS 14 Based On Android 14                 NaN  17963.0   \n",
              "iOS 15                                                       NaN  44749.0   \n",
              "iOS 16                                                       NaN  81999.0   \n",
              "iOS 17                                               4549.725266  59999.0   \n",
              "iOS 18                                              26972.662039  80199.0   \n",
              "\n",
              "                                                          25%       50%  \\\n",
              "Operating System                                                          \n",
              "Android                                              10627.75   26903.0   \n",
              "Android 10                                            7030.00    7180.0   \n",
              "Android 11                                            9992.00   10448.5   \n",
              "Android 12                                            9999.00   12999.0   \n",
              "Android 12 (Go Edition)                               8299.00    8299.0   \n",
              "Android 12 Go                                         7490.00    7490.0   \n",
              "Android 13                                           10483.75   14781.0   \n",
              "Android 13 Go                                         6699.00    6699.0   \n",
              "Android 14                                           12499.00   19999.0   \n",
              "Android 14 Go                                         6099.00    6299.0   \n",
              "Android 15                                           29999.00   37999.0   \n",
              "Android ANDROID 14                                   10908.75   11330.0   \n",
              "Android ANdroid 13 OxygenOS                          24220.00   25940.0   \n",
              "Android Android 10                                   17975.00   17975.0   \n",
              "Android Android 13                                   14915.00   18900.0   \n",
              "Android Android 13 OxygenOS                          22390.00   22390.0   \n",
              "Android Android 13, v13.0 Operating System havi...    7365.00    7365.0   \n",
              "Android Android 13.0                                  8495.75    9249.0   \n",
              "Android Android 14                                    8450.00   11898.0   \n",
              "Android Android 14.0                                 11979.00   11979.0   \n",
              "Android Android V14                                  34851.75   36534.5   \n",
              "Android Android v14                                  24124.50   37800.0   \n",
              "Android Funtouch OS 12                               23990.00   23990.0   \n",
              "Android Funtouch OS 14 Based On Android 14           20479.00   20479.0   \n",
              "Android Funtouch OS 14 based on Android 14           20438.50   25074.5   \n",
              "Android KitKat Android 13                            10999.00   10999.0   \n",
              "Android Oxygen                                       17294.75   19081.5   \n",
              "Android Oxygen 12.1                                  10983.00   10983.0   \n",
              "Android Oxygen 14                                    17405.75   18513.5   \n",
              "Android Oxygen 15                                    41121.50   45001.5   \n",
              "Android Oxygen Android 13.1                          26599.00   26599.0   \n",
              "Android Oxygen Android 14                            12437.00   12437.0   \n",
              "Android Oxygen Android v14                           62999.00   62999.0   \n",
              "Android Oxygen OxygenOS 14                           40799.00   40799.0   \n",
              "Android Oxygen OxygenOS 14.0                         21848.50   22334.0   \n",
              "Android Oxygen OxygenOS based on Android 13          33990.00   33990.0   \n",
              "Android Oxygen OxygenOS14.0                          21684.25   21684.5   \n",
              "Android OxygenOS based on Android 13                 35581.00   35780.0   \n",
              "Android Pie One UI Core 6.0                           6939.00    6939.0   \n",
              "Android Q 14                                         12495.50   12955.0   \n",
              "Android Q ?Android 14                                12493.00   12493.0   \n",
              "Android Q ?Funtouch OS 14 Based On Android 14        35999.00   35999.0   \n",
              "Android Q Android 14                                 13230.00   15999.0   \n",
              "Android Q Funtouch OS 14 Based On Android 14         17963.00   17963.0   \n",
              "iOS 15                                               44749.00   44749.0   \n",
              "iOS 16                                               81999.00   81999.0   \n",
              "iOS 17                                               59999.00   66999.0   \n",
              "iOS 18                                              120400.00  137900.0   \n",
              "\n",
              "                                                          75%       max  \n",
              "Operating System                                                         \n",
              "Android                                              29086.75   34870.0  \n",
              "Android 10                                            7330.00    7480.0  \n",
              "Android 11                                           13974.00   23999.0  \n",
              "Android 12                                           20999.00   99999.0  \n",
              "Android 12 (Go Edition)                               8299.00    8299.0  \n",
              "Android 12 Go                                         7490.00    7490.0  \n",
              "Android 13                                           23071.00  109999.0  \n",
              "Android 13 Go                                         7299.00    8999.0  \n",
              "Android 14                                           27749.00  149999.0  \n",
              "Android 14 Go                                         6351.00    6450.0  \n",
              "Android 15                                           63249.00  129999.0  \n",
              "Android ANDROID 14                                   11650.00   12232.0  \n",
              "Android ANdroid 13 OxygenOS                          27660.00   29380.0  \n",
              "Android Android 10                                   17975.00   17975.0  \n",
              "Android Android 13                                   20398.00   60490.0  \n",
              "Android Android 13 OxygenOS                          22390.00   22390.0  \n",
              "Android Android 13, v13.0 Operating System havi...    7365.00    7365.0  \n",
              "Android Android 13.0                                  9499.00    9999.0  \n",
              "Android Android 14                                   13129.00   40170.0  \n",
              "Android Android 14.0                                 11979.00   11979.0  \n",
              "Android Android V14                                  38217.25   39900.0  \n",
              "Android Android v14                                  38399.50   38999.0  \n",
              "Android Funtouch OS 12                               23990.00   23990.0  \n",
              "Android Funtouch OS 14 Based On Android 14           20479.00   20479.0  \n",
              "Android Funtouch OS 14 based on Android 14           28231.75   28380.0  \n",
              "Android KitKat Android 13                            10999.00   10999.0  \n",
              "Android Oxygen                                       21537.25   21975.0  \n",
              "Android Oxygen 12.1                                  10983.00   10983.0  \n",
              "Android Oxygen 14                                    19691.75   21980.0  \n",
              "Android Oxygen 15                                    49095.50   49895.0  \n",
              "Android Oxygen Android 13.1                          26599.00   26599.0  \n",
              "Android Oxygen Android 14                            12437.00   12437.0  \n",
              "Android Oxygen Android v14                           62999.00   62999.0  \n",
              "Android Oxygen OxygenOS 14                           40799.00   40799.0  \n",
              "Android Oxygen OxygenOS 14.0                         22819.50   23305.0  \n",
              "Android Oxygen OxygenOS based on Android 13          33990.00   33990.0  \n",
              "Android Oxygen OxygenOS14.0                          21684.75   21685.0  \n",
              "Android OxygenOS based on Android 13                 36335.00   36890.0  \n",
              "Android Pie One UI Core 6.0                           6939.00    6939.0  \n",
              "Android Q 14                                         15094.50   25289.0  \n",
              "Android Q ?Android 14                                12493.00   12493.0  \n",
              "Android Q ?Funtouch OS 14 Based On Android 14        35999.00   35999.0  \n",
              "Android Q Android 14                                 19231.50   22945.0  \n",
              "Android Q Funtouch OS 14 Based On Android 14         17963.00   17963.0  \n",
              "iOS 15                                               44749.00   44749.0  \n",
              "iOS 16                                               81999.00   81999.0  \n",
              "iOS 17                                               66999.00   69999.0  \n",
              "iOS 18                                              159150.00  177900.0  "
            ],
            "text/html": [
              "\n",
              "  <div id=\"df-4c769fea-2b36-4882-b4b3-aadd4aac7ff3\" class=\"colab-df-container\">\n",
              "    <div>\n",
              "<style scoped>\n",
              "    .dataframe tbody tr th:only-of-type {\n",
              "        vertical-align: middle;\n",
              "    }\n",
              "\n",
              "    .dataframe tbody tr th {\n",
              "        vertical-align: top;\n",
              "    }\n",
              "\n",
              "    .dataframe thead th {\n",
              "        text-align: right;\n",
              "    }\n",
              "</style>\n",
              "<table border=\"1\" class=\"dataframe\">\n",
              "  <thead>\n",
              "    <tr style=\"text-align: right;\">\n",
              "      <th></th>\n",
              "      <th>count</th>\n",
              "      <th>mean</th>\n",
              "      <th>std</th>\n",
              "      <th>min</th>\n",
              "      <th>25%</th>\n",
              "      <th>50%</th>\n",
              "      <th>75%</th>\n",
              "      <th>max</th>\n",
              "    </tr>\n",
              "    <tr>\n",
              "      <th>Operating System</th>\n",
              "      <th></th>\n",
              "      <th></th>\n",
              "      <th></th>\n",
              "      <th></th>\n",
              "      <th></th>\n",
              "      <th></th>\n",
              "      <th></th>\n",
              "      <th></th>\n",
              "    </tr>\n",
              "  </thead>\n",
              "  <tbody>\n",
              "    <tr>\n",
              "      <th>Android</th>\n",
              "      <td>20.0</td>\n",
              "      <td>20607.900000</td>\n",
              "      <td>10652.062073</td>\n",
              "      <td>6449.0</td>\n",
              "      <td>10627.75</td>\n",
              "      <td>26903.0</td>\n",
              "      <td>29086.75</td>\n",
              "      <td>34870.0</td>\n",
              "    </tr>\n",
              "    <tr>\n",
              "      <th>Android 10</th>\n",
              "      <td>2.0</td>\n",
              "      <td>7180.000000</td>\n",
              "      <td>424.264069</td>\n",
              "      <td>6880.0</td>\n",
              "      <td>7030.00</td>\n",
              "      <td>7180.0</td>\n",
              "      <td>7330.00</td>\n",
              "      <td>7480.0</td>\n",
              "    </tr>\n",
              "    <tr>\n",
              "      <th>Android 11</th>\n",
              "      <td>6.0</td>\n",
              "      <td>12545.666667</td>\n",
              "      <td>6389.821834</td>\n",
              "      <td>5389.0</td>\n",
              "      <td>9992.00</td>\n",
              "      <td>10448.5</td>\n",
              "      <td>13974.00</td>\n",
              "      <td>23999.0</td>\n",
              "    </tr>\n",
              "    <tr>\n",
              "      <th>Android 12</th>\n",
              "      <td>27.0</td>\n",
              "      <td>20578.851852</td>\n",
              "      <td>19538.548294</td>\n",
              "      <td>7290.0</td>\n",
              "      <td>9999.00</td>\n",
              "      <td>12999.0</td>\n",
              "      <td>20999.00</td>\n",
              "      <td>99999.0</td>\n",
              "    </tr>\n",
              "    <tr>\n",
              "      <th>Android 12 (Go Edition)</th>\n",
              "      <td>1.0</td>\n",
              "      <td>8299.000000</td>\n",
              "      <td>NaN</td>\n",
              "      <td>8299.0</td>\n",
              "      <td>8299.00</td>\n",
              "      <td>8299.0</td>\n",
              "      <td>8299.00</td>\n",
              "      <td>8299.0</td>\n",
              "    </tr>\n",
              "    <tr>\n",
              "      <th>Android 12 Go</th>\n",
              "      <td>1.0</td>\n",
              "      <td>7490.000000</td>\n",
              "      <td>NaN</td>\n",
              "      <td>7490.0</td>\n",
              "      <td>7490.00</td>\n",
              "      <td>7490.0</td>\n",
              "      <td>7490.00</td>\n",
              "      <td>7490.0</td>\n",
              "    </tr>\n",
              "    <tr>\n",
              "      <th>Android 13</th>\n",
              "      <td>116.0</td>\n",
              "      <td>20330.706897</td>\n",
              "      <td>17097.817825</td>\n",
              "      <td>7365.0</td>\n",
              "      <td>10483.75</td>\n",
              "      <td>14781.0</td>\n",
              "      <td>23071.00</td>\n",
              "      <td>109999.0</td>\n",
              "    </tr>\n",
              "    <tr>\n",
              "      <th>Android 13 Go</th>\n",
              "      <td>11.0</td>\n",
              "      <td>6833.545455</td>\n",
              "      <td>1025.869033</td>\n",
              "      <td>5239.0</td>\n",
              "      <td>6699.00</td>\n",
              "      <td>6699.0</td>\n",
              "      <td>7299.00</td>\n",
              "      <td>8999.0</td>\n",
              "    </tr>\n",
              "    <tr>\n",
              "      <th>Android 14</th>\n",
              "      <td>374.0</td>\n",
              "      <td>22243.799465</td>\n",
              "      <td>14238.969090</td>\n",
              "      <td>5499.0</td>\n",
              "      <td>12499.00</td>\n",
              "      <td>19999.0</td>\n",
              "      <td>27749.00</td>\n",
              "      <td>149999.0</td>\n",
              "    </tr>\n",
              "    <tr>\n",
              "      <th>Android 14 Go</th>\n",
              "      <td>5.0</td>\n",
              "      <td>6259.600000</td>\n",
              "      <td>156.319545</td>\n",
              "      <td>6099.0</td>\n",
              "      <td>6099.00</td>\n",
              "      <td>6299.0</td>\n",
              "      <td>6351.00</td>\n",
              "      <td>6450.0</td>\n",
              "    </tr>\n",
              "    <tr>\n",
              "      <th>Android 15</th>\n",
              "      <td>38.0</td>\n",
              "      <td>49104.263158</td>\n",
              "      <td>31305.633267</td>\n",
              "      <td>6999.0</td>\n",
              "      <td>29999.00</td>\n",
              "      <td>37999.0</td>\n",
              "      <td>63249.00</td>\n",
              "      <td>129999.0</td>\n",
              "    </tr>\n",
              "    <tr>\n",
              "      <th>Android ANDROID 14</th>\n",
              "      <td>6.0</td>\n",
              "      <td>11365.833333</td>\n",
              "      <td>558.977429</td>\n",
              "      <td>10778.0</td>\n",
              "      <td>10908.75</td>\n",
              "      <td>11330.0</td>\n",
              "      <td>11650.00</td>\n",
              "      <td>12232.0</td>\n",
              "    </tr>\n",
              "    <tr>\n",
              "      <th>Android ANdroid 13 OxygenOS</th>\n",
              "      <td>2.0</td>\n",
              "      <td>25940.000000</td>\n",
              "      <td>4864.894655</td>\n",
              "      <td>22500.0</td>\n",
              "      <td>24220.00</td>\n",
              "      <td>25940.0</td>\n",
              "      <td>27660.00</td>\n",
              "      <td>29380.0</td>\n",
              "    </tr>\n",
              "    <tr>\n",
              "      <th>Android Android 10</th>\n",
              "      <td>1.0</td>\n",
              "      <td>17975.000000</td>\n",
              "      <td>NaN</td>\n",
              "      <td>17975.0</td>\n",
              "      <td>17975.00</td>\n",
              "      <td>17975.0</td>\n",
              "      <td>17975.00</td>\n",
              "      <td>17975.0</td>\n",
              "    </tr>\n",
              "    <tr>\n",
              "      <th>Android Android 13</th>\n",
              "      <td>5.0</td>\n",
              "      <td>24640.400000</td>\n",
              "      <td>20562.539782</td>\n",
              "      <td>8499.0</td>\n",
              "      <td>14915.00</td>\n",
              "      <td>18900.0</td>\n",
              "      <td>20398.00</td>\n",
              "      <td>60490.0</td>\n",
              "    </tr>\n",
              "    <tr>\n",
              "      <th>Android Android 13 OxygenOS</th>\n",
              "      <td>1.0</td>\n",
              "      <td>22390.000000</td>\n",
              "      <td>NaN</td>\n",
              "      <td>22390.0</td>\n",
              "      <td>22390.00</td>\n",
              "      <td>22390.0</td>\n",
              "      <td>22390.00</td>\n",
              "      <td>22390.0</td>\n",
              "    </tr>\n",
              "    <tr>\n",
              "      <th>Android Android 13, v13.0 Operating System having One UI Core 5.1</th>\n",
              "      <td>1.0</td>\n",
              "      <td>7365.000000</td>\n",
              "      <td>NaN</td>\n",
              "      <td>7365.0</td>\n",
              "      <td>7365.00</td>\n",
              "      <td>7365.0</td>\n",
              "      <td>7365.00</td>\n",
              "      <td>7365.0</td>\n",
              "    </tr>\n",
              "    <tr>\n",
              "      <th>Android Android 13.0</th>\n",
              "      <td>6.0</td>\n",
              "      <td>9097.666667</td>\n",
              "      <td>697.853757</td>\n",
              "      <td>8262.0</td>\n",
              "      <td>8495.75</td>\n",
              "      <td>9249.0</td>\n",
              "      <td>9499.00</td>\n",
              "      <td>9999.0</td>\n",
              "    </tr>\n",
              "    <tr>\n",
              "      <th>Android Android 14</th>\n",
              "      <td>25.0</td>\n",
              "      <td>13517.720000</td>\n",
              "      <td>8518.050523</td>\n",
              "      <td>6899.0</td>\n",
              "      <td>8450.00</td>\n",
              "      <td>11898.0</td>\n",
              "      <td>13129.00</td>\n",
              "      <td>40170.0</td>\n",
              "    </tr>\n",
              "    <tr>\n",
              "      <th>Android Android 14.0</th>\n",
              "      <td>1.0</td>\n",
              "      <td>11979.000000</td>\n",
              "      <td>NaN</td>\n",
              "      <td>11979.0</td>\n",
              "      <td>11979.00</td>\n",
              "      <td>11979.0</td>\n",
              "      <td>11979.00</td>\n",
              "      <td>11979.0</td>\n",
              "    </tr>\n",
              "    <tr>\n",
              "      <th>Android Android V14</th>\n",
              "      <td>2.0</td>\n",
              "      <td>36534.500000</td>\n",
              "      <td>4759.535744</td>\n",
              "      <td>33169.0</td>\n",
              "      <td>34851.75</td>\n",
              "      <td>36534.5</td>\n",
              "      <td>38217.25</td>\n",
              "      <td>39900.0</td>\n",
              "    </tr>\n",
              "    <tr>\n",
              "      <th>Android Android v14</th>\n",
              "      <td>3.0</td>\n",
              "      <td>29082.666667</td>\n",
              "      <td>16148.360608</td>\n",
              "      <td>10449.0</td>\n",
              "      <td>24124.50</td>\n",
              "      <td>37800.0</td>\n",
              "      <td>38399.50</td>\n",
              "      <td>38999.0</td>\n",
              "    </tr>\n",
              "    <tr>\n",
              "      <th>Android Funtouch OS 12</th>\n",
              "      <td>1.0</td>\n",
              "      <td>23990.000000</td>\n",
              "      <td>NaN</td>\n",
              "      <td>23990.0</td>\n",
              "      <td>23990.00</td>\n",
              "      <td>23990.0</td>\n",
              "      <td>23990.00</td>\n",
              "      <td>23990.0</td>\n",
              "    </tr>\n",
              "    <tr>\n",
              "      <th>Android Funtouch OS 14 Based On Android 14</th>\n",
              "      <td>1.0</td>\n",
              "      <td>20479.000000</td>\n",
              "      <td>NaN</td>\n",
              "      <td>20479.0</td>\n",
              "      <td>20479.00</td>\n",
              "      <td>20479.0</td>\n",
              "      <td>20479.00</td>\n",
              "      <td>20479.0</td>\n",
              "    </tr>\n",
              "    <tr>\n",
              "      <th>Android Funtouch OS 14 based on Android 14</th>\n",
              "      <td>8.0</td>\n",
              "      <td>22709.500000</td>\n",
              "      <td>7129.575042</td>\n",
              "      <td>11590.0</td>\n",
              "      <td>20438.50</td>\n",
              "      <td>25074.5</td>\n",
              "      <td>28231.75</td>\n",
              "      <td>28380.0</td>\n",
              "    </tr>\n",
              "    <tr>\n",
              "      <th>Android KitKat Android 13</th>\n",
              "      <td>1.0</td>\n",
              "      <td>10999.000000</td>\n",
              "      <td>NaN</td>\n",
              "      <td>10999.0</td>\n",
              "      <td>10999.00</td>\n",
              "      <td>10999.0</td>\n",
              "      <td>10999.00</td>\n",
              "      <td>10999.0</td>\n",
              "    </tr>\n",
              "    <tr>\n",
              "      <th>Android Oxygen</th>\n",
              "      <td>8.0</td>\n",
              "      <td>19420.375000</td>\n",
              "      <td>2304.183893</td>\n",
              "      <td>17275.0</td>\n",
              "      <td>17294.75</td>\n",
              "      <td>19081.5</td>\n",
              "      <td>21537.25</td>\n",
              "      <td>21975.0</td>\n",
              "    </tr>\n",
              "    <tr>\n",
              "      <th>Android Oxygen 12.1</th>\n",
              "      <td>1.0</td>\n",
              "      <td>10983.000000</td>\n",
              "      <td>NaN</td>\n",
              "      <td>10983.0</td>\n",
              "      <td>10983.00</td>\n",
              "      <td>10983.0</td>\n",
              "      <td>10983.00</td>\n",
              "      <td>10983.0</td>\n",
              "    </tr>\n",
              "    <tr>\n",
              "      <th>Android Oxygen 14</th>\n",
              "      <td>10.0</td>\n",
              "      <td>17127.800000</td>\n",
              "      <td>4764.752478</td>\n",
              "      <td>8545.0</td>\n",
              "      <td>17405.75</td>\n",
              "      <td>18513.5</td>\n",
              "      <td>19691.75</td>\n",
              "      <td>21980.0</td>\n",
              "    </tr>\n",
              "    <tr>\n",
              "      <th>Android Oxygen 15</th>\n",
              "      <td>4.0</td>\n",
              "      <td>45215.500000</td>\n",
              "      <td>4808.467427</td>\n",
              "      <td>40964.0</td>\n",
              "      <td>41121.50</td>\n",
              "      <td>45001.5</td>\n",
              "      <td>49095.50</td>\n",
              "      <td>49895.0</td>\n",
              "    </tr>\n",
              "    <tr>\n",
              "      <th>Android Oxygen Android 13.1</th>\n",
              "      <td>1.0</td>\n",
              "      <td>26599.000000</td>\n",
              "      <td>NaN</td>\n",
              "      <td>26599.0</td>\n",
              "      <td>26599.00</td>\n",
              "      <td>26599.0</td>\n",
              "      <td>26599.00</td>\n",
              "      <td>26599.0</td>\n",
              "    </tr>\n",
              "    <tr>\n",
              "      <th>Android Oxygen Android 14</th>\n",
              "      <td>1.0</td>\n",
              "      <td>12437.000000</td>\n",
              "      <td>NaN</td>\n",
              "      <td>12437.0</td>\n",
              "      <td>12437.00</td>\n",
              "      <td>12437.0</td>\n",
              "      <td>12437.00</td>\n",
              "      <td>12437.0</td>\n",
              "    </tr>\n",
              "    <tr>\n",
              "      <th>Android Oxygen Android v14</th>\n",
              "      <td>1.0</td>\n",
              "      <td>62999.000000</td>\n",
              "      <td>NaN</td>\n",
              "      <td>62999.0</td>\n",
              "      <td>62999.00</td>\n",
              "      <td>62999.0</td>\n",
              "      <td>62999.00</td>\n",
              "      <td>62999.0</td>\n",
              "    </tr>\n",
              "    <tr>\n",
              "      <th>Android Oxygen OxygenOS 14</th>\n",
              "      <td>1.0</td>\n",
              "      <td>40799.000000</td>\n",
              "      <td>NaN</td>\n",
              "      <td>40799.0</td>\n",
              "      <td>40799.00</td>\n",
              "      <td>40799.0</td>\n",
              "      <td>40799.00</td>\n",
              "      <td>40799.0</td>\n",
              "    </tr>\n",
              "    <tr>\n",
              "      <th>Android Oxygen OxygenOS 14.0</th>\n",
              "      <td>2.0</td>\n",
              "      <td>22334.000000</td>\n",
              "      <td>1373.201369</td>\n",
              "      <td>21363.0</td>\n",
              "      <td>21848.50</td>\n",
              "      <td>22334.0</td>\n",
              "      <td>22819.50</td>\n",
              "      <td>23305.0</td>\n",
              "    </tr>\n",
              "    <tr>\n",
              "      <th>Android Oxygen OxygenOS based on Android 13</th>\n",
              "      <td>1.0</td>\n",
              "      <td>33990.000000</td>\n",
              "      <td>NaN</td>\n",
              "      <td>33990.0</td>\n",
              "      <td>33990.00</td>\n",
              "      <td>33990.0</td>\n",
              "      <td>33990.00</td>\n",
              "      <td>33990.0</td>\n",
              "    </tr>\n",
              "    <tr>\n",
              "      <th>Android Oxygen OxygenOS14.0</th>\n",
              "      <td>2.0</td>\n",
              "      <td>21684.500000</td>\n",
              "      <td>0.707107</td>\n",
              "      <td>21684.0</td>\n",
              "      <td>21684.25</td>\n",
              "      <td>21684.5</td>\n",
              "      <td>21684.75</td>\n",
              "      <td>21685.0</td>\n",
              "    </tr>\n",
              "    <tr>\n",
              "      <th>Android OxygenOS based on Android 13</th>\n",
              "      <td>3.0</td>\n",
              "      <td>36017.333333</td>\n",
              "      <td>781.512209</td>\n",
              "      <td>35382.0</td>\n",
              "      <td>35581.00</td>\n",
              "      <td>35780.0</td>\n",
              "      <td>36335.00</td>\n",
              "      <td>36890.0</td>\n",
              "    </tr>\n",
              "    <tr>\n",
              "      <th>Android Pie One UI Core 6.0</th>\n",
              "      <td>1.0</td>\n",
              "      <td>6939.000000</td>\n",
              "      <td>NaN</td>\n",
              "      <td>6939.0</td>\n",
              "      <td>6939.00</td>\n",
              "      <td>6939.0</td>\n",
              "      <td>6939.00</td>\n",
              "      <td>6939.0</td>\n",
              "    </tr>\n",
              "    <tr>\n",
              "      <th>Android Q 14</th>\n",
              "      <td>7.0</td>\n",
              "      <td>15120.142857</td>\n",
              "      <td>4768.534661</td>\n",
              "      <td>12417.0</td>\n",
              "      <td>12495.50</td>\n",
              "      <td>12955.0</td>\n",
              "      <td>15094.50</td>\n",
              "      <td>25289.0</td>\n",
              "    </tr>\n",
              "    <tr>\n",
              "      <th>Android Q ?Android 14</th>\n",
              "      <td>1.0</td>\n",
              "      <td>12493.000000</td>\n",
              "      <td>NaN</td>\n",
              "      <td>12493.0</td>\n",
              "      <td>12493.00</td>\n",
              "      <td>12493.0</td>\n",
              "      <td>12493.00</td>\n",
              "      <td>12493.0</td>\n",
              "    </tr>\n",
              "    <tr>\n",
              "      <th>Android Q ?Funtouch OS 14 Based On Android 14</th>\n",
              "      <td>1.0</td>\n",
              "      <td>35999.000000</td>\n",
              "      <td>NaN</td>\n",
              "      <td>35999.0</td>\n",
              "      <td>35999.00</td>\n",
              "      <td>35999.0</td>\n",
              "      <td>35999.00</td>\n",
              "      <td>35999.0</td>\n",
              "    </tr>\n",
              "    <tr>\n",
              "      <th>Android Q Android 14</th>\n",
              "      <td>15.0</td>\n",
              "      <td>16464.666667</td>\n",
              "      <td>4184.557370</td>\n",
              "      <td>10599.0</td>\n",
              "      <td>13230.00</td>\n",
              "      <td>15999.0</td>\n",
              "      <td>19231.50</td>\n",
              "      <td>22945.0</td>\n",
              "    </tr>\n",
              "    <tr>\n",
              "      <th>Android Q Funtouch OS 14 Based On Android 14</th>\n",
              "      <td>1.0</td>\n",
              "      <td>17963.000000</td>\n",
              "      <td>NaN</td>\n",
              "      <td>17963.0</td>\n",
              "      <td>17963.00</td>\n",
              "      <td>17963.0</td>\n",
              "      <td>17963.00</td>\n",
              "      <td>17963.0</td>\n",
              "    </tr>\n",
              "    <tr>\n",
              "      <th>iOS 15</th>\n",
              "      <td>1.0</td>\n",
              "      <td>44749.000000</td>\n",
              "      <td>NaN</td>\n",
              "      <td>44749.0</td>\n",
              "      <td>44749.00</td>\n",
              "      <td>44749.0</td>\n",
              "      <td>44749.00</td>\n",
              "      <td>44749.0</td>\n",
              "    </tr>\n",
              "    <tr>\n",
              "      <th>iOS 16</th>\n",
              "      <td>1.0</td>\n",
              "      <td>81999.000000</td>\n",
              "      <td>NaN</td>\n",
              "      <td>81999.0</td>\n",
              "      <td>81999.00</td>\n",
              "      <td>81999.0</td>\n",
              "      <td>81999.00</td>\n",
              "      <td>81999.0</td>\n",
              "    </tr>\n",
              "    <tr>\n",
              "      <th>iOS 17</th>\n",
              "      <td>5.0</td>\n",
              "      <td>64799.000000</td>\n",
              "      <td>4549.725266</td>\n",
              "      <td>59999.0</td>\n",
              "      <td>59999.00</td>\n",
              "      <td>66999.0</td>\n",
              "      <td>66999.00</td>\n",
              "      <td>69999.0</td>\n",
              "    </tr>\n",
              "    <tr>\n",
              "      <th>iOS 18</th>\n",
              "      <td>28.0</td>\n",
              "      <td>139042.750000</td>\n",
              "      <td>26972.662039</td>\n",
              "      <td>80199.0</td>\n",
              "      <td>120400.00</td>\n",
              "      <td>137900.0</td>\n",
              "      <td>159150.00</td>\n",
              "      <td>177900.0</td>\n",
              "    </tr>\n",
              "  </tbody>\n",
              "</table>\n",
              "</div>\n",
              "    <div class=\"colab-df-buttons\">\n",
              "\n",
              "  <div class=\"colab-df-container\">\n",
              "    <button class=\"colab-df-convert\" onclick=\"convertToInteractive('df-4c769fea-2b36-4882-b4b3-aadd4aac7ff3')\"\n",
              "            title=\"Convert this dataframe to an interactive table.\"\n",
              "            style=\"display:none;\">\n",
              "\n",
              "  <svg xmlns=\"http://www.w3.org/2000/svg\" height=\"24px\" viewBox=\"0 -960 960 960\">\n",
              "    <path d=\"M120-120v-720h720v720H120Zm60-500h600v-160H180v160Zm220 220h160v-160H400v160Zm0 220h160v-160H400v160ZM180-400h160v-160H180v160Zm440 0h160v-160H620v160ZM180-180h160v-160H180v160Zm440 0h160v-160H620v160Z\"/>\n",
              "  </svg>\n",
              "    </button>\n",
              "\n",
              "  <style>\n",
              "    .colab-df-container {\n",
              "      display:flex;\n",
              "      gap: 12px;\n",
              "    }\n",
              "\n",
              "    .colab-df-convert {\n",
              "      background-color: #E8F0FE;\n",
              "      border: none;\n",
              "      border-radius: 50%;\n",
              "      cursor: pointer;\n",
              "      display: none;\n",
              "      fill: #1967D2;\n",
              "      height: 32px;\n",
              "      padding: 0 0 0 0;\n",
              "      width: 32px;\n",
              "    }\n",
              "\n",
              "    .colab-df-convert:hover {\n",
              "      background-color: #E2EBFA;\n",
              "      box-shadow: 0px 1px 2px rgba(60, 64, 67, 0.3), 0px 1px 3px 1px rgba(60, 64, 67, 0.15);\n",
              "      fill: #174EA6;\n",
              "    }\n",
              "\n",
              "    .colab-df-buttons div {\n",
              "      margin-bottom: 4px;\n",
              "    }\n",
              "\n",
              "    [theme=dark] .colab-df-convert {\n",
              "      background-color: #3B4455;\n",
              "      fill: #D2E3FC;\n",
              "    }\n",
              "\n",
              "    [theme=dark] .colab-df-convert:hover {\n",
              "      background-color: #434B5C;\n",
              "      box-shadow: 0px 1px 3px 1px rgba(0, 0, 0, 0.15);\n",
              "      filter: drop-shadow(0px 1px 2px rgba(0, 0, 0, 0.3));\n",
              "      fill: #FFFFFF;\n",
              "    }\n",
              "  </style>\n",
              "\n",
              "    <script>\n",
              "      const buttonEl =\n",
              "        document.querySelector('#df-4c769fea-2b36-4882-b4b3-aadd4aac7ff3 button.colab-df-convert');\n",
              "      buttonEl.style.display =\n",
              "        google.colab.kernel.accessAllowed ? 'block' : 'none';\n",
              "\n",
              "      async function convertToInteractive(key) {\n",
              "        const element = document.querySelector('#df-4c769fea-2b36-4882-b4b3-aadd4aac7ff3');\n",
              "        const dataTable =\n",
              "          await google.colab.kernel.invokeFunction('convertToInteractive',\n",
              "                                                    [key], {});\n",
              "        if (!dataTable) return;\n",
              "\n",
              "        const docLinkHtml = 'Like what you see? Visit the ' +\n",
              "          '<a target=\"_blank\" href=https://colab.research.google.com/notebooks/data_table.ipynb>data table notebook</a>'\n",
              "          + ' to learn more about interactive tables.';\n",
              "        element.innerHTML = '';\n",
              "        dataTable['output_type'] = 'display_data';\n",
              "        await google.colab.output.renderOutput(dataTable, element);\n",
              "        const docLink = document.createElement('div');\n",
              "        docLink.innerHTML = docLinkHtml;\n",
              "        element.appendChild(docLink);\n",
              "      }\n",
              "    </script>\n",
              "  </div>\n",
              "\n",
              "\n",
              "<div id=\"df-0491c678-7140-4b3b-98a4-d69ae3b8e9b6\">\n",
              "  <button class=\"colab-df-quickchart\" onclick=\"quickchart('df-0491c678-7140-4b3b-98a4-d69ae3b8e9b6')\"\n",
              "            title=\"Suggest charts\"\n",
              "            style=\"display:none;\">\n",
              "\n",
              "<svg xmlns=\"http://www.w3.org/2000/svg\" height=\"24px\"viewBox=\"0 0 24 24\"\n",
              "     width=\"24px\">\n",
              "    <g>\n",
              "        <path d=\"M19 3H5c-1.1 0-2 .9-2 2v14c0 1.1.9 2 2 2h14c1.1 0 2-.9 2-2V5c0-1.1-.9-2-2-2zM9 17H7v-7h2v7zm4 0h-2V7h2v10zm4 0h-2v-4h2v4z\"/>\n",
              "    </g>\n",
              "</svg>\n",
              "  </button>\n",
              "\n",
              "<style>\n",
              "  .colab-df-quickchart {\n",
              "      --bg-color: #E8F0FE;\n",
              "      --fill-color: #1967D2;\n",
              "      --hover-bg-color: #E2EBFA;\n",
              "      --hover-fill-color: #174EA6;\n",
              "      --disabled-fill-color: #AAA;\n",
              "      --disabled-bg-color: #DDD;\n",
              "  }\n",
              "\n",
              "  [theme=dark] .colab-df-quickchart {\n",
              "      --bg-color: #3B4455;\n",
              "      --fill-color: #D2E3FC;\n",
              "      --hover-bg-color: #434B5C;\n",
              "      --hover-fill-color: #FFFFFF;\n",
              "      --disabled-bg-color: #3B4455;\n",
              "      --disabled-fill-color: #666;\n",
              "  }\n",
              "\n",
              "  .colab-df-quickchart {\n",
              "    background-color: var(--bg-color);\n",
              "    border: none;\n",
              "    border-radius: 50%;\n",
              "    cursor: pointer;\n",
              "    display: none;\n",
              "    fill: var(--fill-color);\n",
              "    height: 32px;\n",
              "    padding: 0;\n",
              "    width: 32px;\n",
              "  }\n",
              "\n",
              "  .colab-df-quickchart:hover {\n",
              "    background-color: var(--hover-bg-color);\n",
              "    box-shadow: 0 1px 2px rgba(60, 64, 67, 0.3), 0 1px 3px 1px rgba(60, 64, 67, 0.15);\n",
              "    fill: var(--button-hover-fill-color);\n",
              "  }\n",
              "\n",
              "  .colab-df-quickchart-complete:disabled,\n",
              "  .colab-df-quickchart-complete:disabled:hover {\n",
              "    background-color: var(--disabled-bg-color);\n",
              "    fill: var(--disabled-fill-color);\n",
              "    box-shadow: none;\n",
              "  }\n",
              "\n",
              "  .colab-df-spinner {\n",
              "    border: 2px solid var(--fill-color);\n",
              "    border-color: transparent;\n",
              "    border-bottom-color: var(--fill-color);\n",
              "    animation:\n",
              "      spin 1s steps(1) infinite;\n",
              "  }\n",
              "\n",
              "  @keyframes spin {\n",
              "    0% {\n",
              "      border-color: transparent;\n",
              "      border-bottom-color: var(--fill-color);\n",
              "      border-left-color: var(--fill-color);\n",
              "    }\n",
              "    20% {\n",
              "      border-color: transparent;\n",
              "      border-left-color: var(--fill-color);\n",
              "      border-top-color: var(--fill-color);\n",
              "    }\n",
              "    30% {\n",
              "      border-color: transparent;\n",
              "      border-left-color: var(--fill-color);\n",
              "      border-top-color: var(--fill-color);\n",
              "      border-right-color: var(--fill-color);\n",
              "    }\n",
              "    40% {\n",
              "      border-color: transparent;\n",
              "      border-right-color: var(--fill-color);\n",
              "      border-top-color: var(--fill-color);\n",
              "    }\n",
              "    60% {\n",
              "      border-color: transparent;\n",
              "      border-right-color: var(--fill-color);\n",
              "    }\n",
              "    80% {\n",
              "      border-color: transparent;\n",
              "      border-right-color: var(--fill-color);\n",
              "      border-bottom-color: var(--fill-color);\n",
              "    }\n",
              "    90% {\n",
              "      border-color: transparent;\n",
              "      border-bottom-color: var(--fill-color);\n",
              "    }\n",
              "  }\n",
              "</style>\n",
              "\n",
              "  <script>\n",
              "    async function quickchart(key) {\n",
              "      const quickchartButtonEl =\n",
              "        document.querySelector('#' + key + ' button');\n",
              "      quickchartButtonEl.disabled = true;  // To prevent multiple clicks.\n",
              "      quickchartButtonEl.classList.add('colab-df-spinner');\n",
              "      try {\n",
              "        const charts = await google.colab.kernel.invokeFunction(\n",
              "            'suggestCharts', [key], {});\n",
              "      } catch (error) {\n",
              "        console.error('Error during call to suggestCharts:', error);\n",
              "      }\n",
              "      quickchartButtonEl.classList.remove('colab-df-spinner');\n",
              "      quickchartButtonEl.classList.add('colab-df-quickchart-complete');\n",
              "    }\n",
              "    (() => {\n",
              "      let quickchartButtonEl =\n",
              "        document.querySelector('#df-0491c678-7140-4b3b-98a4-d69ae3b8e9b6 button');\n",
              "      quickchartButtonEl.style.display =\n",
              "        google.colab.kernel.accessAllowed ? 'block' : 'none';\n",
              "    })();\n",
              "  </script>\n",
              "</div>\n",
              "\n",
              "  <div id=\"id_b025df51-aea4-4e38-a009-93f242252335\">\n",
              "    <style>\n",
              "      .colab-df-generate {\n",
              "        background-color: #E8F0FE;\n",
              "        border: none;\n",
              "        border-radius: 50%;\n",
              "        cursor: pointer;\n",
              "        display: none;\n",
              "        fill: #1967D2;\n",
              "        height: 32px;\n",
              "        padding: 0 0 0 0;\n",
              "        width: 32px;\n",
              "      }\n",
              "\n",
              "      .colab-df-generate:hover {\n",
              "        background-color: #E2EBFA;\n",
              "        box-shadow: 0px 1px 2px rgba(60, 64, 67, 0.3), 0px 1px 3px 1px rgba(60, 64, 67, 0.15);\n",
              "        fill: #174EA6;\n",
              "      }\n",
              "\n",
              "      [theme=dark] .colab-df-generate {\n",
              "        background-color: #3B4455;\n",
              "        fill: #D2E3FC;\n",
              "      }\n",
              "\n",
              "      [theme=dark] .colab-df-generate:hover {\n",
              "        background-color: #434B5C;\n",
              "        box-shadow: 0px 1px 3px 1px rgba(0, 0, 0, 0.15);\n",
              "        filter: drop-shadow(0px 1px 2px rgba(0, 0, 0, 0.3));\n",
              "        fill: #FFFFFF;\n",
              "      }\n",
              "    </style>\n",
              "    <button class=\"colab-df-generate\" onclick=\"generateWithVariable('price_stats')\"\n",
              "            title=\"Generate code using this dataframe.\"\n",
              "            style=\"display:none;\">\n",
              "\n",
              "  <svg xmlns=\"http://www.w3.org/2000/svg\" height=\"24px\"viewBox=\"0 0 24 24\"\n",
              "       width=\"24px\">\n",
              "    <path d=\"M7,19H8.4L18.45,9,17,7.55,7,17.6ZM5,21V16.75L18.45,3.32a2,2,0,0,1,2.83,0l1.4,1.43a1.91,1.91,0,0,1,.58,1.4,1.91,1.91,0,0,1-.58,1.4L9.25,21ZM18.45,9,17,7.55Zm-12,3A5.31,5.31,0,0,0,4.9,8.1,5.31,5.31,0,0,0,1,6.5,5.31,5.31,0,0,0,4.9,4.9,5.31,5.31,0,0,0,6.5,1,5.31,5.31,0,0,0,8.1,4.9,5.31,5.31,0,0,0,12,6.5,5.46,5.46,0,0,0,6.5,12Z\"/>\n",
              "  </svg>\n",
              "    </button>\n",
              "    <script>\n",
              "      (() => {\n",
              "      const buttonEl =\n",
              "        document.querySelector('#id_b025df51-aea4-4e38-a009-93f242252335 button.colab-df-generate');\n",
              "      buttonEl.style.display =\n",
              "        google.colab.kernel.accessAllowed ? 'block' : 'none';\n",
              "\n",
              "      buttonEl.onclick = () => {\n",
              "        google.colab.notebook.generateWithVariable('price_stats');\n",
              "      }\n",
              "      })();\n",
              "    </script>\n",
              "  </div>\n",
              "\n",
              "    </div>\n",
              "  </div>\n"
            ],
            "application/vnd.google.colaboratory.intrinsic+json": {
              "type": "dataframe",
              "variable_name": "price_stats",
              "summary": "{\n  \"name\": \"price_stats\",\n  \"rows\": 48,\n  \"fields\": [\n    {\n      \"column\": \"Operating System\",\n      \"properties\": {\n        \"dtype\": \"string\",\n        \"num_unique_values\": 48,\n        \"samples\": [\n          \"Android Oxygen 12.1\",\n          \"Android Q ?Android 14\",\n          \"Android Oxygen\"\n        ],\n        \"semantic_type\": \"\",\n        \"description\": \"\"\n      }\n    },\n    {\n      \"column\": \"count\",\n      \"properties\": {\n        \"dtype\": \"number\",\n        \"std\": 55.759738996051695,\n        \"min\": 1.0,\n        \"max\": 374.0,\n        \"num_unique_values\": 18,\n        \"samples\": [\n          20.0,\n          2.0,\n          5.0\n        ],\n        \"semantic_type\": \"\",\n        \"description\": \"\"\n      }\n    },\n    {\n      \"column\": \"mean\",\n      \"properties\": {\n        \"dtype\": \"number\",\n        \"std\": 23352.863965508383,\n        \"min\": 6259.6,\n        \"max\": 139042.75,\n        \"num_unique_values\": 48,\n        \"samples\": [\n          10983.0,\n          12493.0,\n          19420.375\n        ],\n        \"semantic_type\": \"\",\n        \"description\": \"\"\n      }\n    },\n    {\n      \"column\": \"std\",\n      \"properties\": {\n        \"dtype\": \"number\",\n        \"std\": 8636.12537755108,\n        \"min\": 0.7071067811865476,\n        \"max\": 31305.6332670847,\n        \"num_unique_values\": 27,\n        \"samples\": [\n          31305.6332670847,\n          8518.050522860263,\n          558.9774294787462\n        ],\n        \"semantic_type\": \"\",\n        \"description\": \"\"\n      }\n    },\n    {\n      \"column\": \"min\",\n      \"properties\": {\n        \"dtype\": \"number\",\n        \"std\": 18983.43357614692,\n        \"min\": 5239.0,\n        \"max\": 81999.0,\n        \"num_unique_values\": 47,\n        \"samples\": [\n          8545.0,\n          12493.0,\n          10983.0\n        ],\n        \"semantic_type\": \"\",\n        \"description\": \"\"\n      }\n    },\n    {\n      \"column\": \"25%\",\n      \"properties\": {\n        \"dtype\": \"number\",\n        \"std\": 21547.002740874384,\n        \"min\": 6099.0,\n        \"max\": 120400.0,\n        \"num_unique_values\": 48,\n        \"samples\": [\n          10983.0,\n          12493.0,\n          17294.75\n        ],\n        \"semantic_type\": \"\",\n        \"description\": \"\"\n      }\n    },\n    {\n      \"column\": \"50%\",\n      \"properties\": {\n        \"dtype\": \"number\",\n        \"std\": 23377.870905502863,\n        \"min\": 6299.0,\n        \"max\": 137900.0,\n        \"num_unique_values\": 48,\n        \"samples\": [\n          10983.0,\n          12493.0,\n          19081.5\n        ],\n        \"semantic_type\": \"\",\n        \"description\": \"\"\n      }\n    },\n    {\n      \"column\": \"75%\",\n      \"properties\": {\n        \"dtype\": \"number\",\n        \"std\": 25922.791901124863,\n        \"min\": 6351.0,\n        \"max\": 159150.0,\n        \"num_unique_values\": 48,\n        \"samples\": [\n          10983.0,\n          12493.0,\n          21537.25\n        ],\n        \"semantic_type\": \"\",\n        \"description\": \"\"\n      }\n    },\n    {\n      \"column\": \"max\",\n      \"properties\": {\n        \"dtype\": \"number\",\n        \"std\": 38241.01675605964,\n        \"min\": 6450.0,\n        \"max\": 177900.0,\n        \"num_unique_values\": 48,\n        \"samples\": [\n          10983.0,\n          12493.0,\n          21975.0\n        ],\n        \"semantic_type\": \"\",\n        \"description\": \"\"\n      }\n    }\n  ]\n}"
            }
          },
          "metadata": {},
          "execution_count": 42
        }
      ]
    },
    {
      "cell_type": "markdown",
      "source": [
        "Q 15. How do the number of ratings correlate with the number of reviews?"
      ],
      "metadata": {
        "id": "CmGRwibrUnr3"
      }
    },
    {
      "cell_type": "code",
      "source": [
        "plt.figure(figsize=(10,6))\n",
        "sns.scatterplot(x='Ratings Count', y='Reviews Count', data=df)\n",
        "plt.title('Ratings Count vs Reviews Count')\n",
        "plt.xlabel('Ratings Count')\n",
        "plt.ylabel('Reviews Count')\n",
        "plt.show()"
      ],
      "metadata": {
        "colab": {
          "base_uri": "https://localhost:8080/",
          "height": 564
        },
        "id": "D3IDiEx7Up97",
        "outputId": "e295e87c-20c8-48cf-de81-a0c3981dc128"
      },
      "execution_count": 43,
      "outputs": [
        {
          "output_type": "display_data",
          "data": {
            "text/plain": [
              "<Figure size 1000x600 with 1 Axes>"
            ],
            "image/png": "[encoded data removed]"
          },
          "metadata": {}
        }
      ]
    },
    {
      "cell_type": "code",
      "source": [
        "correlation = df['Ratings Count'].corr(df['Reviews Count'])\n",
        "print(f\"Correlation between Ratings Count and Reviews Count: {correlation:.2f}\")"
      ],
      "metadata": {
        "colab": {
          "base_uri": "https://localhost:8080/"
        },
        "id": "4sncAzUMYlvq",
        "outputId": "c1b64383-81ec-4f1b-9a4b-0c2497563cb2"
      },
      "execution_count": 44,
      "outputs": [
        {
          "output_type": "stream",
          "name": "stdout",
          "text": [
            "Correlation between Ratings Count and Reviews Count: -0.39\n"
          ]
        }
      ]
    },
    {
      "cell_type": "markdown",
      "source": [
        "Q 16. What is the average rating for products with specific features (e.g., high RAM or high battery capacity)?"
      ],
      "metadata": {
        "id": "TahfhBKCUqeN"
      }
    },
    {
      "cell_type": "code",
      "source": [
        "high_ram_products = df[df['RAM (GB)'] > 8]\n",
        "\n",
        "average_rating_high_ram = high_ram_products['Rating'].mean()\n",
        "\n",
        "print(f\"Average Rating for Products with RAM > 8 GB: {average_rating_high_ram:.2f}\")"
      ],
      "metadata": {
        "colab": {
          "base_uri": "https://localhost:8080/"
        },
        "id": "R2E8I-2oUtCG",
        "outputId": "5ac345d0-9e85-4137-e78c-6182697271ce"
      },
      "execution_count": 46,
      "outputs": [
        {
          "output_type": "stream",
          "name": "stdout",
          "text": [
            "Average Rating for Products with RAM > 8 GB: 4.41\n"
          ]
        }
      ]
    },
    {
      "cell_type": "code",
      "source": [
        "high_battery_products = df[df['Battery Capacity (mAh)'] > 4000]\n",
        "\n",
        "average_rating_high_battery = high_battery_products['Rating'].mean()\n",
        "\n",
        "print(f\"Average Rating for Products with Battery Capacity > 4000 mAh: {average_rating_high_battery:.2f}\")"
      ],
      "metadata": {
        "colab": {
          "base_uri": "https://localhost:8080/"
        },
        "id": "2RiZLpG6Y05a",
        "outputId": "5b41e936-e81d-489c-fe14-f9aad87a7e60"
      },
      "execution_count": 47,
      "outputs": [
        {
          "output_type": "stream",
          "name": "stdout",
          "text": [
            "Average Rating for Products with Battery Capacity > 4000 mAh: 4.34\n"
          ]
        }
      ]
    },
    {
      "cell_type": "code",
      "source": [
        "high_feature_products = df[(df['RAM (GB)'] > 8) & (df['Battery Capacity (mAh)'] > 4000)]\n",
        "\n",
        "average_rating_high_features = high_feature_products['Rating'].mean()\n",
        "\n",
        "print(f\"Average Rating for Products with RAM > 8 GB and Battery Capacity > 4000 mAh: {average_rating_high_features:.2f}\")"
      ],
      "metadata": {
        "colab": {
          "base_uri": "https://localhost:8080/"
        },
        "id": "OfxLEoHhY7QX",
        "outputId": "333cb423-3353-4367-bd19-6c53fd6b4d25"
      },
      "execution_count": 48,
      "outputs": [
        {
          "output_type": "stream",
          "name": "stdout",
          "text": [
            "Average Rating for Products with RAM > 8 GB and Battery Capacity > 4000 mAh: 4.41\n"
          ]
        }
      ]
    },
    {
      "cell_type": "markdown",
      "source": [
        "Q 17. Are there any outliers in terms of price, rating, or discount percentage?"
      ],
      "metadata": {
        "id": "GP8Knl1ZUtmt"
      }
    },
    {
      "cell_type": "code",
      "source": [
        "plt.figure(figsize=(10,6))\n",
        "sns.boxplot(x=df['Price'])\n",
        "plt.title('Price Outliers')\n",
        "plt.show()"
      ],
      "metadata": {
        "colab": {
          "base_uri": "https://localhost:8080/",
          "height": 564
        },
        "id": "mHG1mB05UwPX",
        "outputId": "48e5a640-a953-495b-c49b-a5924837bdf1"
      },
      "execution_count": 49,
      "outputs": [
        {
          "output_type": "display_data",
          "data": {
            "text/plain": [
              "<Figure size 1000x600 with 1 Axes>"
            ],
            "image/png": "[encoded data removed]"
          },
          "metadata": {}
        }
      ]
    },
    {
      "cell_type": "code",
      "source": [
        "plt.figure(figsize=(10,6))\n",
        "sns.boxplot(x=df['Rating'])\n",
        "plt.title('Rating Outliers')\n",
        "plt.show()"
      ],
      "metadata": {
        "colab": {
          "base_uri": "https://localhost:8080/",
          "height": 564
        },
        "id": "XZV-pQyOZDLl",
        "outputId": "08c7cf67-39d1-4fe3-adb2-929bcddd114e"
      },
      "execution_count": 50,
      "outputs": [
        {
          "output_type": "display_data",
          "data": {
            "text/plain": [
              "<Figure size 1000x600 with 1 Axes>"
            ],
            "image/png": "[encoded data removed]"
          },
          "metadata": {}
        }
      ]
    },
    {
      "cell_type": "code",
      "source": [
        "plt.figure(figsize=(10,6))\n",
        "sns.boxplot(x=df['Discount (%)'])\n",
        "plt.title('Discount Percentage Outliers')\n",
        "plt.show()"
      ],
      "metadata": {
        "colab": {
          "base_uri": "https://localhost:8080/",
          "height": 564
        },
        "id": "_Aa82gZaZFDj",
        "outputId": "91de2a0c-20fb-48b0-9db9-522a9fc56b57"
      },
      "execution_count": 51,
      "outputs": [
        {
          "output_type": "display_data",
          "data": {
            "text/plain": [
              "<Figure size 1000x600 with 1 Axes>"
            ],
            "image/png": "[encoded data removed]"
          },
          "metadata": {}
        }
      ]
    },
    {
      "cell_type": "markdown",
      "source": [
        "Q 18. Which operating system has the highest average rating?"
      ],
      "metadata": {
        "id": "eTn0lI0tUwvS"
      }
    },
    {
      "cell_type": "code",
      "source": [
        "avg_rating_by_os = df.groupby('Operating System')['Rating'].mean()\n",
        "\n",
        "highest_avg_rating_os = avg_rating_by_os.idxmax()\n",
        "highest_avg_rating = avg_rating_by_os.max()\n",
        "\n",
        "print(f\"The operating system with the highest average rating is '{highest_avg_rating_os}' with an average rating of {highest_avg_rating:.2f}\")"
      ],
      "metadata": {
        "colab": {
          "base_uri": "https://localhost:8080/"
        },
        "id": "dvxDEc7rU2Kq",
        "outputId": "589bc968-da43-48f1-8be2-e37a6db95ea5"
      },
      "execution_count": 52,
      "outputs": [
        {
          "output_type": "stream",
          "name": "stdout",
          "text": [
            "The operating system with the highest average rating is 'Android Oxygen 15' with an average rating of 4.80\n"
          ]
        }
      ]
    },
    {
      "cell_type": "markdown",
      "source": [
        "Q 19. How does the discount percentage correlate with the number of reviews?"
      ],
      "metadata": {
        "id": "RRKfvRfOU2mN"
      }
    },
    {
      "cell_type": "code",
      "source": [
        "plt.figure(figsize=(10,6))\n",
        "sns.scatterplot(x='Discount (%)', y='Reviews Count', data=df)\n",
        "plt.title('Discount Percentage vs Reviews Count')\n",
        "plt.xlabel('Discount Percentage')\n",
        "plt.ylabel('Reviews Count')\n",
        "plt.show()"
      ],
      "metadata": {
        "colab": {
          "base_uri": "https://localhost:8080/",
          "height": 564
        },
        "id": "4w_6mPEDU8F7",
        "outputId": "f09bc33f-df5e-4de5-8637-073b01785157"
      },
      "execution_count": 54,
      "outputs": [
        {
          "output_type": "display_data",
          "data": {
            "text/plain": [
              "<Figure size 1000x600 with 1 Axes>"
            ],
            "image/png": "[encoded data removed]"
          },
          "metadata": {}
        }
      ]
    },
    {
      "cell_type": "code",
      "source": [
        "correlation = df['Discount (%)'].corr(df['Reviews Count'])\n",
        "print(f\"Correlation between Discount Percentage and Reviews Count: {correlation:.2f}\")"
      ],
      "metadata": {
        "colab": {
          "base_uri": "https://localhost:8080/"
        },
        "id": "jrr-K_wWZrsb",
        "outputId": "43ad1559-1b67-4126-906d-784be95cff90"
      },
      "execution_count": 55,
      "outputs": [
        {
          "output_type": "stream",
          "name": "stdout",
          "text": [
            "Correlation between Discount Percentage and Reviews Count: 0.22\n"
          ]
        }
      ]
    }
  ]
}